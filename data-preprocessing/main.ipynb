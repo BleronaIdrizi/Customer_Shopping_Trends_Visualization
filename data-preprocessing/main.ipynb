{
 "cells": [
  {
   "cell_type": "markdown",
   "metadata": {},
   "source": [
    "## Trendet e blerjeve të konsumatorëve \n",
    "Kjo analizë eksploron dhe analizon tendencat e blerjeve të klientëve duke përdorur një grup të dhënash. Analiza ofron njohuri mbi sjelljen e konsumatorëve dhe modelet e blerjeve duke përfshirë detaje të tilla si mosha, gjinia, historiku i blerjeve, mënyrat e preferuara të pagesës dhe shpeshtësia e blerjeve."
   ]
  },
  {
   "cell_type": "markdown",
   "metadata": {},
   "source": [
    "### Libraritë e përdorura"
   ]
  },
  {
   "cell_type": "code",
   "execution_count": 206,
   "metadata": {},
   "outputs": [],
   "source": [
    "import pandas as pd\n",
    "import seaborn as sns\n",
    "import numpy as np\n",
    "import matplotlib.pyplot as plt\n",
    "import gzip"
   ]
  },
  {
   "cell_type": "markdown",
   "metadata": {},
   "source": [
    "### Konstantet e përdorura"
   ]
  },
  {
   "cell_type": "code",
   "execution_count": 101,
   "metadata": {},
   "outputs": [],
   "source": [
    "# Përcaktimi i ngjyrave për ti paraqitur në statistika.\n",
    "colors = [\"#89CFF0\", \"#FF69B4\", \"#FFD700\", \"#7B68EE\", \"#FF4500\",\n",
    "          \"#9370DB\", \"#32CD32\", \"#8A2BE2\", \"#FF6347\", \"#20B2AA\",\n",
    "          \"#FF69B4\", \"#00CED1\", \"#FF7F50\", \"#7FFF00\", \"#DA70D6\"]\n",
    "\n",
    "# Lista e vlerave të mundshme për zhurmë në kolonën \"Category\"\n",
    "lista_e_kategorive_zhurme = [\"\", \"\", \"\", \"Special \", \"Limited Edition \", \"Exlusive \"]"
   ]
  },
  {
   "cell_type": "markdown",
   "metadata": {},
   "source": [
    "### Metodat ndihmëse"
   ]
  },
  {
   "cell_type": "code",
   "execution_count": 204,
   "metadata": {},
   "outputs": [],
   "source": [
    "# Për ta kuptuar strukturën e të dhënave tona përdorim funksionin .head() për të hedhur një vështrim në rreshtat e parë.\n",
    "def printo_datasetin(text, df):\n",
    "    print(\"\\n\" + text + \":\")\n",
    "    display(df.head())\n",
    "\n",
    "# Funksioni për shtimin e zhurmës në kolonën \"Category\"\n",
    "def shto_zhurme_ne_kategori(df):\n",
    "    zhurma = np.random.choice(lista_e_kategorive_zhurme, size=len(df))\n",
    "    df['Category'] = df['Category'] + zhurma\n",
    "\n",
    "# Përdorimi i boxplotit për analizën e zhurmës\n",
    "def shfaq_boxplotin_per_zhurme(title, df):\n",
    "    plt.figure(figsize=(10, 6))\n",
    "    df.boxplot(column='Purchase Amount (USD)', by='Category', showfliers=False)\n",
    "    plt.title(title)\n",
    "    plt.suptitle('')\n",
    "    plt.show()\n",
    "\n",
    "# Përdorimi i pie chart për shfaqjen e grafikave\n",
    "def shfaq_pie_chart(title, df):\n",
    "    plt.figure(figsize = (20, 6))\n",
    "    counts = df[\"Category\"].value_counts()\n",
    "    explode = (0, 0.1, 0.1, 0.1)  # explode the slices a bit for better visibility\n",
    "    counts.plot(kind = 'pie', fontsize = 12, colors = colors, explode = explode, autopct = '%1.1f%%')\n",
    "    plt.xlabel(title, weight = \"bold\", color = \"#2F0F5D\", fontsize = 14, labelpad = 20)\n",
    "    plt.axis('equal')  # Equal aspect ratio ensures that pie is drawn as a circle.\n",
    "    plt.legend(labels = counts.index, loc = \"best\")\n",
    "    plt.show()\n",
    "\n",
    "def gjej_gjinine_me_te_perdorur_per_stine(df):\n",
    "    # Grupimi sipas 'Season' dhe 'Gender', pastaj numërimi i rasteve\n",
    "    season_gender_counts = df.groupby(['Season', 'Gender']).size().reset_index(name='Counts')\n",
    "\n",
    "    # Gjetja e gjinisë më të shpeshtë për çdo stinë\n",
    "    most_frequent_gender = season_gender_counts.loc[season_gender_counts.groupby('Season')['Counts'].idxmax()]\n",
    "\n",
    "    return most_frequent_gender"
   ]
  },
  {
   "cell_type": "markdown",
   "metadata": {},
   "source": [
    "### Leximi i dataset-it"
   ]
  },
  {
   "cell_type": "code",
   "execution_count": 212,
   "metadata": {},
   "outputs": [],
   "source": [
    "df=pd.read_csv(\"../Shopping_Trends_Dataset.csv\")"
   ]
  },
  {
   "cell_type": "markdown",
   "metadata": {},
   "source": [
    "### Kualiteti i të dhënave "
   ]
  },
  {
   "cell_type": "markdown",
   "metadata": {},
   "source": [
    "- Struktura e bazës së të dhënave"
   ]
  },
  {
   "cell_type": "code",
   "execution_count": 70,
   "metadata": {},
   "outputs": [
    {
     "name": "stdout",
     "output_type": "stream",
     "text": [
      "\n",
      "Dataset-i:\n"
     ]
    },
    {
     "data": {
      "text/html": [
       "<div>\n",
       "<style scoped>\n",
       "    .dataframe tbody tr th:only-of-type {\n",
       "        vertical-align: middle;\n",
       "    }\n",
       "\n",
       "    .dataframe tbody tr th {\n",
       "        vertical-align: top;\n",
       "    }\n",
       "\n",
       "    .dataframe thead th {\n",
       "        text-align: right;\n",
       "    }\n",
       "</style>\n",
       "<table border=\"1\" class=\"dataframe\">\n",
       "  <thead>\n",
       "    <tr style=\"text-align: right;\">\n",
       "      <th></th>\n",
       "      <th>Customer ID</th>\n",
       "      <th>Age</th>\n",
       "      <th>Gender</th>\n",
       "      <th>Item Purchased</th>\n",
       "      <th>Category</th>\n",
       "      <th>Purchase Amount (USD)</th>\n",
       "      <th>Location</th>\n",
       "      <th>Size</th>\n",
       "      <th>Color</th>\n",
       "      <th>Season</th>\n",
       "      <th>Review Rating</th>\n",
       "      <th>Subscription Status</th>\n",
       "      <th>Shipping Type</th>\n",
       "      <th>Discount Applied</th>\n",
       "      <th>Promo Code Used</th>\n",
       "      <th>Previous Purchases</th>\n",
       "      <th>Payment Method</th>\n",
       "      <th>Frequency of Purchases</th>\n",
       "    </tr>\n",
       "  </thead>\n",
       "  <tbody>\n",
       "    <tr>\n",
       "      <th>0</th>\n",
       "      <td>1</td>\n",
       "      <td>55.0</td>\n",
       "      <td>Male</td>\n",
       "      <td>Blouse</td>\n",
       "      <td>Clothing</td>\n",
       "      <td>53</td>\n",
       "      <td>Kentucky</td>\n",
       "      <td>L</td>\n",
       "      <td>Gray</td>\n",
       "      <td>Winter</td>\n",
       "      <td>3.1</td>\n",
       "      <td>Yes</td>\n",
       "      <td>Express</td>\n",
       "      <td>Yes</td>\n",
       "      <td>Yes</td>\n",
       "      <td>14</td>\n",
       "      <td>Venmo</td>\n",
       "      <td>Fortnightly</td>\n",
       "    </tr>\n",
       "    <tr>\n",
       "      <th>1</th>\n",
       "      <td>2</td>\n",
       "      <td>19.0</td>\n",
       "      <td>Male</td>\n",
       "      <td>Sweater</td>\n",
       "      <td>Clothing</td>\n",
       "      <td>64</td>\n",
       "      <td>Maine</td>\n",
       "      <td>L</td>\n",
       "      <td>Maroon</td>\n",
       "      <td>Winter</td>\n",
       "      <td>3.1</td>\n",
       "      <td>Yes</td>\n",
       "      <td>Express</td>\n",
       "      <td>Yes</td>\n",
       "      <td>Yes</td>\n",
       "      <td>2</td>\n",
       "      <td>Cash</td>\n",
       "      <td>Fortnightly</td>\n",
       "    </tr>\n",
       "    <tr>\n",
       "      <th>2</th>\n",
       "      <td>3</td>\n",
       "      <td>50.0</td>\n",
       "      <td>Male</td>\n",
       "      <td>Jeans</td>\n",
       "      <td>Clothing</td>\n",
       "      <td>73</td>\n",
       "      <td>Massachusetts</td>\n",
       "      <td>S</td>\n",
       "      <td>Maroon</td>\n",
       "      <td>Spring</td>\n",
       "      <td>3.1</td>\n",
       "      <td>Yes</td>\n",
       "      <td>Free Shipping</td>\n",
       "      <td>Yes</td>\n",
       "      <td>Yes</td>\n",
       "      <td>23</td>\n",
       "      <td>Credit Card</td>\n",
       "      <td>Weekly</td>\n",
       "    </tr>\n",
       "    <tr>\n",
       "      <th>3</th>\n",
       "      <td>4</td>\n",
       "      <td>21.0</td>\n",
       "      <td>Male</td>\n",
       "      <td>Sandals</td>\n",
       "      <td>Footwear</td>\n",
       "      <td>90</td>\n",
       "      <td>Rhode Island</td>\n",
       "      <td>M</td>\n",
       "      <td>Maroon</td>\n",
       "      <td>Spring</td>\n",
       "      <td>3.5</td>\n",
       "      <td>Yes</td>\n",
       "      <td>Next Day Air</td>\n",
       "      <td>Yes</td>\n",
       "      <td>Yes</td>\n",
       "      <td>49</td>\n",
       "      <td>PayPal</td>\n",
       "      <td>Weekly</td>\n",
       "    </tr>\n",
       "    <tr>\n",
       "      <th>4</th>\n",
       "      <td>5</td>\n",
       "      <td>45.0</td>\n",
       "      <td>Male</td>\n",
       "      <td>Blouse</td>\n",
       "      <td>Clothing</td>\n",
       "      <td>49</td>\n",
       "      <td>Oregon</td>\n",
       "      <td>M</td>\n",
       "      <td>Turquoise</td>\n",
       "      <td>Spring</td>\n",
       "      <td>2.7</td>\n",
       "      <td>Yes</td>\n",
       "      <td>Free Shipping</td>\n",
       "      <td>Yes</td>\n",
       "      <td>Yes</td>\n",
       "      <td>31</td>\n",
       "      <td>PayPal</td>\n",
       "      <td>Annually</td>\n",
       "    </tr>\n",
       "  </tbody>\n",
       "</table>\n",
       "</div>"
      ],
      "text/plain": [
       "   Customer ID   Age Gender Item Purchased  Category  Purchase Amount (USD)  \\\n",
       "0            1  55.0   Male         Blouse  Clothing                     53   \n",
       "1            2  19.0   Male        Sweater  Clothing                     64   \n",
       "2            3  50.0   Male          Jeans  Clothing                     73   \n",
       "3            4  21.0   Male        Sandals  Footwear                     90   \n",
       "4            5  45.0   Male         Blouse  Clothing                     49   \n",
       "\n",
       "        Location Size      Color  Season  Review Rating Subscription Status  \\\n",
       "0       Kentucky    L       Gray  Winter            3.1                 Yes   \n",
       "1          Maine    L     Maroon  Winter            3.1                 Yes   \n",
       "2  Massachusetts    S     Maroon  Spring            3.1                 Yes   \n",
       "3   Rhode Island    M     Maroon  Spring            3.5                 Yes   \n",
       "4         Oregon    M  Turquoise  Spring            2.7                 Yes   \n",
       "\n",
       "   Shipping Type Discount Applied Promo Code Used  Previous Purchases  \\\n",
       "0        Express              Yes             Yes                  14   \n",
       "1        Express              Yes             Yes                   2   \n",
       "2  Free Shipping              Yes             Yes                  23   \n",
       "3   Next Day Air              Yes             Yes                  49   \n",
       "4  Free Shipping              Yes             Yes                  31   \n",
       "\n",
       "  Payment Method Frequency of Purchases  \n",
       "0          Venmo            Fortnightly  \n",
       "1           Cash            Fortnightly  \n",
       "2    Credit Card                 Weekly  \n",
       "3         PayPal                 Weekly  \n",
       "4         PayPal               Annually  "
      ]
     },
     "metadata": {},
     "output_type": "display_data"
    }
   ],
   "source": [
    "printo_datasetin(\"Dataset-i\", df)"
   ]
  },
  {
   "cell_type": "markdown",
   "metadata": {},
   "source": [
    "- Njohuri mbi llojet e të dhënave"
   ]
  },
  {
   "cell_type": "code",
   "execution_count": 71,
   "metadata": {},
   "outputs": [
    {
     "name": "stdout",
     "output_type": "stream",
     "text": [
      "<class 'pandas.core.frame.DataFrame'>\n",
      "RangeIndex: 3951 entries, 0 to 3950\n",
      "Data columns (total 18 columns):\n",
      " #   Column                  Non-Null Count  Dtype  \n",
      "---  ------                  --------------  -----  \n",
      " 0   Customer ID             3951 non-null   int64  \n",
      " 1   Age                     3948 non-null   float64\n",
      " 2   Gender                  3950 non-null   object \n",
      " 3   Item Purchased          3951 non-null   object \n",
      " 4   Category                3950 non-null   object \n",
      " 5   Purchase Amount (USD)   3951 non-null   int64  \n",
      " 6   Location                3951 non-null   object \n",
      " 7   Size                    3951 non-null   object \n",
      " 8   Color                   3951 non-null   object \n",
      " 9   Season                  3951 non-null   object \n",
      " 10  Review Rating           3951 non-null   float64\n",
      " 11  Subscription Status     3951 non-null   object \n",
      " 12  Shipping Type           3951 non-null   object \n",
      " 13  Discount Applied        3951 non-null   object \n",
      " 14  Promo Code Used         3951 non-null   object \n",
      " 15  Previous Purchases      3951 non-null   int64  \n",
      " 16  Payment Method          3951 non-null   object \n",
      " 17  Frequency of Purchases  3951 non-null   object \n",
      "dtypes: float64(2), int64(3), object(13)\n",
      "memory usage: 555.7+ KB\n"
     ]
    }
   ],
   "source": [
    "# Për të fituar njohuri mbi llojet e të dhënave ekzekutojmë këtë komandë:\n",
    "df.info()"
   ]
  },
  {
   "cell_type": "markdown",
   "metadata": {},
   "source": [
    "- Kontrollimi i vlerave null"
   ]
  },
  {
   "cell_type": "code",
   "execution_count": 72,
   "metadata": {},
   "outputs": [
    {
     "data": {
      "text/plain": [
       "Customer ID               0\n",
       "Age                       3\n",
       "Gender                    1\n",
       "Item Purchased            0\n",
       "Category                  1\n",
       "Purchase Amount (USD)     0\n",
       "Location                  0\n",
       "Size                      0\n",
       "Color                     0\n",
       "Season                    0\n",
       "Review Rating             0\n",
       "Subscription Status       0\n",
       "Shipping Type             0\n",
       "Discount Applied          0\n",
       "Promo Code Used           0\n",
       "Previous Purchases        0\n",
       "Payment Method            0\n",
       "Frequency of Purchases    0\n",
       "dtype: int64"
      ]
     },
     "execution_count": 72,
     "metadata": {},
     "output_type": "execute_result"
    }
   ],
   "source": [
    "# Komanda për kontrollimin e vlerave null:\n",
    "df.isnull().sum()"
   ]
  },
  {
   "cell_type": "code",
   "execution_count": 84,
   "metadata": {},
   "outputs": [
    {
     "name": "stdout",
     "output_type": "stream",
     "text": [
      "Customer ID               0\n",
      "Age                       0\n",
      "Gender                    1\n",
      "Item Purchased            0\n",
      "Category                  1\n",
      "Purchase Amount (USD)     0\n",
      "Location                  0\n",
      "Size                      0\n",
      "Color                     0\n",
      "Season                    0\n",
      "Review Rating             0\n",
      "Subscription Status       0\n",
      "Shipping Type             0\n",
      "Discount Applied          0\n",
      "Promo Code Used           0\n",
      "Previous Purchases        0\n",
      "Payment Method            0\n",
      "Frequency of Purchases    0\n",
      "Sale Applied              0\n",
      "dtype: int64\n"
     ]
    }
   ],
   "source": [
    "# ----------- Zevëndësimi i vlerave null -----------\n",
    "\n",
    "# Kalkulimi i moshës mesatare, duke mos i përfshirë vlerat NaN\n",
    "average_age = df['Age'].mean()\n",
    "\n",
    "# Zevëndësimi i vlerave NaN i kolonës Age me moshën mesatare\n",
    "df['Age'].fillna(average_age, inplace=True)\n",
    "\n",
    "# Shfaqja e dataseti-it të modifikuar\n",
    "print(df.isnull().sum())"
   ]
  },
  {
   "cell_type": "markdown",
   "metadata": {},
   "source": [
    "- Kërkimi i duplikatëve"
   ]
  },
  {
   "cell_type": "code",
   "execution_count": 74,
   "metadata": {},
   "outputs": [
    {
     "name": "stdout",
     "output_type": "stream",
     "text": [
      "Duplikatet: 40\n"
     ]
    }
   ],
   "source": [
    "# Komanda për kërkimin e duplikateve dhe shfaqja e rezultatit\n",
    "print(\"Duplikatet: \" + str(df.duplicated().sum()))"
   ]
  },
  {
   "cell_type": "code",
   "execution_count": 86,
   "metadata": {},
   "outputs": [
    {
     "name": "stdout",
     "output_type": "stream",
     "text": [
      "Duplikatet: 0\n"
     ]
    }
   ],
   "source": [
    "# ----------- Fshirja e duplikateve -----------\n",
    "\n",
    "df.drop_duplicates(['Customer ID', 'Age', 'Gender', 'Item Purchased', 'Category', \n",
    "                    'Purchase Amount (USD)', 'Location', 'Size', 'Color', \n",
    "                    'Season', 'Review Rating', 'Subscription Status', \n",
    "                    'Shipping Type', 'Discount Applied', 'Promo Code Used', \n",
    "                    'Previous Purchases', 'Payment Method', 'Frequency of Purchases'], \n",
    "                   keep='first', inplace=True)\n",
    "\n",
    "# Kërkimi përsëri i duplikateve dhe shfaqja e rezultatit\n",
    "print(\"Duplikatet: \" + str(df.duplicated().sum()))"
   ]
  },
  {
   "cell_type": "markdown",
   "metadata": {},
   "source": [
    "- Outliers"
   ]
  },
  {
   "cell_type": "code",
   "execution_count": 87,
   "metadata": {},
   "outputs": [
    {
     "data": {
      "text/plain": [
       "<Axes: xlabel='Age'>"
      ]
     },
     "execution_count": 87,
     "metadata": {},
     "output_type": "execute_result"
    },
    {
     "data": {
      "image/png": "[encoded data removed]",
      "text/plain": [
       "<Figure size 640x480 with 1 Axes>"
      ]
     },
     "metadata": {},
     "output_type": "display_data"
    }
   ],
   "source": [
    "# -----------  Kërkimi i Outliers -----------\n",
    "\n",
    "# Përdorimi i paketës seaborn për ti paraqitur Outliers\n",
    "sns.boxplot(df['Age'], orient='h')"
   ]
  },
  {
   "cell_type": "code",
   "execution_count": 88,
   "metadata": {},
   "outputs": [
    {
     "name": "stdout",
     "output_type": "stream",
     "text": [
      "Limiti i sipërm: 105.77592085161783\n",
      "Limiti i poshtëm: -16.663907661480735\n"
     ]
    }
   ],
   "source": [
    "# -----------  Largimi i Outliers me metodën Z-Score -----------\n",
    "\n",
    "# Gjetja e limiteve\n",
    "upper_limit = df['Age'].mean() + 3*df['Age'].std()\n",
    "lower_limit = df['Age'].mean() - 3*df['Age'].std()\n",
    "print('Limiti i sipërm:', upper_limit)\n",
    "print('Limiti i poshtëm:', lower_limit)"
   ]
  },
  {
   "cell_type": "code",
   "execution_count": 89,
   "metadata": {},
   "outputs": [
    {
     "data": {
      "text/html": [
       "<div>\n",
       "<style scoped>\n",
       "    .dataframe tbody tr th:only-of-type {\n",
       "        vertical-align: middle;\n",
       "    }\n",
       "\n",
       "    .dataframe tbody tr th {\n",
       "        vertical-align: top;\n",
       "    }\n",
       "\n",
       "    .dataframe thead th {\n",
       "        text-align: right;\n",
       "    }\n",
       "</style>\n",
       "<table border=\"1\" class=\"dataframe\">\n",
       "  <thead>\n",
       "    <tr style=\"text-align: right;\">\n",
       "      <th></th>\n",
       "      <th>Customer ID</th>\n",
       "      <th>Age</th>\n",
       "      <th>Gender</th>\n",
       "      <th>Item Purchased</th>\n",
       "      <th>Category</th>\n",
       "      <th>Purchase Amount (USD)</th>\n",
       "      <th>Location</th>\n",
       "      <th>Size</th>\n",
       "      <th>Color</th>\n",
       "      <th>Season</th>\n",
       "      <th>Review Rating</th>\n",
       "      <th>Subscription Status</th>\n",
       "      <th>Shipping Type</th>\n",
       "      <th>Discount Applied</th>\n",
       "      <th>Promo Code Used</th>\n",
       "      <th>Previous Purchases</th>\n",
       "      <th>Payment Method</th>\n",
       "      <th>Frequency of Purchases</th>\n",
       "      <th>Sale Applied</th>\n",
       "    </tr>\n",
       "  </thead>\n",
       "  <tbody>\n",
       "    <tr>\n",
       "      <th>3944</th>\n",
       "      <td>3900</td>\n",
       "      <td>150.0</td>\n",
       "      <td>Female</td>\n",
       "      <td>Handbag</td>\n",
       "      <td>Accessories</td>\n",
       "      <td>81</td>\n",
       "      <td>California</td>\n",
       "      <td>M</td>\n",
       "      <td>Beige</td>\n",
       "      <td>Spring</td>\n",
       "      <td>3.1</td>\n",
       "      <td>No</td>\n",
       "      <td>Store Pickup</td>\n",
       "      <td>No</td>\n",
       "      <td>No</td>\n",
       "      <td>33</td>\n",
       "      <td>Venmo</td>\n",
       "      <td>Quarterly</td>\n",
       "      <td>No</td>\n",
       "    </tr>\n",
       "    <tr>\n",
       "      <th>3945</th>\n",
       "      <td>3900</td>\n",
       "      <td>240.0</td>\n",
       "      <td>Female</td>\n",
       "      <td>Handbag</td>\n",
       "      <td>Accessories</td>\n",
       "      <td>81</td>\n",
       "      <td>California</td>\n",
       "      <td>M</td>\n",
       "      <td>Beige</td>\n",
       "      <td>Spring</td>\n",
       "      <td>3.1</td>\n",
       "      <td>No</td>\n",
       "      <td>Store Pickup</td>\n",
       "      <td>No</td>\n",
       "      <td>No</td>\n",
       "      <td>33</td>\n",
       "      <td>Venmo</td>\n",
       "      <td>Quarterly</td>\n",
       "      <td>No</td>\n",
       "    </tr>\n",
       "    <tr>\n",
       "      <th>3946</th>\n",
       "      <td>3900</td>\n",
       "      <td>420.0</td>\n",
       "      <td>Female</td>\n",
       "      <td>Handbag</td>\n",
       "      <td>Accessories</td>\n",
       "      <td>81</td>\n",
       "      <td>California</td>\n",
       "      <td>M</td>\n",
       "      <td>Beige</td>\n",
       "      <td>Spring</td>\n",
       "      <td>3.1</td>\n",
       "      <td>No</td>\n",
       "      <td>Store Pickup</td>\n",
       "      <td>No</td>\n",
       "      <td>No</td>\n",
       "      <td>33</td>\n",
       "      <td>Venmo</td>\n",
       "      <td>Quarterly</td>\n",
       "      <td>No</td>\n",
       "    </tr>\n",
       "    <tr>\n",
       "      <th>3947</th>\n",
       "      <td>3900</td>\n",
       "      <td>215.0</td>\n",
       "      <td>Female</td>\n",
       "      <td>Handbag</td>\n",
       "      <td>Accessories</td>\n",
       "      <td>81</td>\n",
       "      <td>California</td>\n",
       "      <td>M</td>\n",
       "      <td>Beige</td>\n",
       "      <td>Spring</td>\n",
       "      <td>3.1</td>\n",
       "      <td>No</td>\n",
       "      <td>Store Pickup</td>\n",
       "      <td>No</td>\n",
       "      <td>No</td>\n",
       "      <td>33</td>\n",
       "      <td>Venmo</td>\n",
       "      <td>Quarterly</td>\n",
       "      <td>No</td>\n",
       "    </tr>\n",
       "    <tr>\n",
       "      <th>3948</th>\n",
       "      <td>3900</td>\n",
       "      <td>205.0</td>\n",
       "      <td>Female</td>\n",
       "      <td>Handbag</td>\n",
       "      <td>Accessories</td>\n",
       "      <td>81</td>\n",
       "      <td>California</td>\n",
       "      <td>M</td>\n",
       "      <td>Beige</td>\n",
       "      <td>Spring</td>\n",
       "      <td>3.1</td>\n",
       "      <td>No</td>\n",
       "      <td>Store Pickup</td>\n",
       "      <td>No</td>\n",
       "      <td>No</td>\n",
       "      <td>33</td>\n",
       "      <td>Venmo</td>\n",
       "      <td>Quarterly</td>\n",
       "      <td>No</td>\n",
       "    </tr>\n",
       "    <tr>\n",
       "      <th>3949</th>\n",
       "      <td>3900</td>\n",
       "      <td>270.0</td>\n",
       "      <td>Female</td>\n",
       "      <td>Handbag</td>\n",
       "      <td>Accessories</td>\n",
       "      <td>81</td>\n",
       "      <td>California</td>\n",
       "      <td>M</td>\n",
       "      <td>Beige</td>\n",
       "      <td>Spring</td>\n",
       "      <td>3.1</td>\n",
       "      <td>No</td>\n",
       "      <td>Store Pickup</td>\n",
       "      <td>No</td>\n",
       "      <td>No</td>\n",
       "      <td>33</td>\n",
       "      <td>Venmo</td>\n",
       "      <td>Quarterly</td>\n",
       "      <td>No</td>\n",
       "    </tr>\n",
       "    <tr>\n",
       "      <th>3950</th>\n",
       "      <td>3900</td>\n",
       "      <td>700.0</td>\n",
       "      <td>Female</td>\n",
       "      <td>Handbag</td>\n",
       "      <td>Accessories</td>\n",
       "      <td>81</td>\n",
       "      <td>California</td>\n",
       "      <td>M</td>\n",
       "      <td>Beige</td>\n",
       "      <td>Spring</td>\n",
       "      <td>3.1</td>\n",
       "      <td>No</td>\n",
       "      <td>Store Pickup</td>\n",
       "      <td>No</td>\n",
       "      <td>No</td>\n",
       "      <td>33</td>\n",
       "      <td>Venmo</td>\n",
       "      <td>Quarterly</td>\n",
       "      <td>No</td>\n",
       "    </tr>\n",
       "  </tbody>\n",
       "</table>\n",
       "</div>"
      ],
      "text/plain": [
       "      Customer ID    Age  Gender Item Purchased     Category  \\\n",
       "3944         3900  150.0  Female        Handbag  Accessories   \n",
       "3945         3900  240.0  Female        Handbag  Accessories   \n",
       "3946         3900  420.0  Female        Handbag  Accessories   \n",
       "3947         3900  215.0  Female        Handbag  Accessories   \n",
       "3948         3900  205.0  Female        Handbag  Accessories   \n",
       "3949         3900  270.0  Female        Handbag  Accessories   \n",
       "3950         3900  700.0  Female        Handbag  Accessories   \n",
       "\n",
       "      Purchase Amount (USD)    Location Size  Color  Season  Review Rating  \\\n",
       "3944                     81  California    M  Beige  Spring            3.1   \n",
       "3945                     81  California    M  Beige  Spring            3.1   \n",
       "3946                     81  California    M  Beige  Spring            3.1   \n",
       "3947                     81  California    M  Beige  Spring            3.1   \n",
       "3948                     81  California    M  Beige  Spring            3.1   \n",
       "3949                     81  California    M  Beige  Spring            3.1   \n",
       "3950                     81  California    M  Beige  Spring            3.1   \n",
       "\n",
       "     Subscription Status Shipping Type Discount Applied Promo Code Used  \\\n",
       "3944                  No  Store Pickup               No              No   \n",
       "3945                  No  Store Pickup               No              No   \n",
       "3946                  No  Store Pickup               No              No   \n",
       "3947                  No  Store Pickup               No              No   \n",
       "3948                  No  Store Pickup               No              No   \n",
       "3949                  No  Store Pickup               No              No   \n",
       "3950                  No  Store Pickup               No              No   \n",
       "\n",
       "      Previous Purchases Payment Method Frequency of Purchases Sale Applied  \n",
       "3944                  33          Venmo              Quarterly           No  \n",
       "3945                  33          Venmo              Quarterly           No  \n",
       "3946                  33          Venmo              Quarterly           No  \n",
       "3947                  33          Venmo              Quarterly           No  \n",
       "3948                  33          Venmo              Quarterly           No  \n",
       "3949                  33          Venmo              Quarterly           No  \n",
       "3950                  33          Venmo              Quarterly           No  "
      ]
     },
     "execution_count": 89,
     "metadata": {},
     "output_type": "execute_result"
    }
   ],
   "source": [
    "# -----------  Gjetja e Outliers -----------\n",
    "\n",
    "df.loc[(df['Age'] > upper_limit) | (df['Age'] < lower_limit)]"
   ]
  },
  {
   "cell_type": "code",
   "execution_count": 90,
   "metadata": {},
   "outputs": [
    {
     "name": "stdout",
     "output_type": "stream",
     "text": [
      "Para largimit të Outliers: 3911\n",
      "Pas largimit të Outliers: 3904\n",
      "Outliers: 7\n"
     ]
    }
   ],
   "source": [
    "# -----------  Largimi i të dhënave që janë paraqitur si Outliers -----------\n",
    "\n",
    "new_df = df.loc[(df['Age'] <= upper_limit) & (df['Age'] >= lower_limit)]\n",
    "print('Para largimit të Outliers:', len(df))\n",
    "print('Pas largimit të Outliers:',len(new_df))\n",
    "print('Outliers:', len(df)-len(new_df))"
   ]
  },
  {
   "cell_type": "code",
   "execution_count": 91,
   "metadata": {},
   "outputs": [
    {
     "data": {
      "text/plain": [
       "<Axes: xlabel='Age'>"
      ]
     },
     "execution_count": 91,
     "metadata": {},
     "output_type": "execute_result"
    },
    {
     "data": {
      "image/png": "[encoded data removed]",
      "text/plain": [
       "<Figure size 640x480 with 1 Axes>"
      ]
     },
     "metadata": {},
     "output_type": "display_data"
    }
   ],
   "source": [
    "# -----------  Paraqitja e dataset-it pa Outliers -----------\n",
    "\n",
    "sns.boxplot(new_df['Age'], orient='h')"
   ]
  },
  {
   "cell_type": "markdown",
   "metadata": {},
   "source": [
    "- Noisy data"
   ]
  },
  {
   "cell_type": "code",
   "execution_count": 51,
   "metadata": {},
   "outputs": [],
   "source": [
    "# -----------  Shtimi i zhurmës -----------\n",
    "\n",
    "np.random.seed(42)\n",
    "\n",
    "# Shtimi i më shumë zhurmës në një kolonë numerike\n",
    "kolona_zhurme = 'Purchase Amount (USD)'\n",
    "df[kolona_zhurme] = df[kolona_zhurme] + np.random.normal(0, 20, size=len(df))"
   ]
  },
  {
   "cell_type": "code",
   "execution_count": 92,
   "metadata": {},
   "outputs": [
    {
     "name": "stdout",
     "output_type": "stream",
     "text": [
      "\n",
      "Dataset-i me zhurmë:\n"
     ]
    },
    {
     "data": {
      "text/html": [
       "<div>\n",
       "<style scoped>\n",
       "    .dataframe tbody tr th:only-of-type {\n",
       "        vertical-align: middle;\n",
       "    }\n",
       "\n",
       "    .dataframe tbody tr th {\n",
       "        vertical-align: top;\n",
       "    }\n",
       "\n",
       "    .dataframe thead th {\n",
       "        text-align: right;\n",
       "    }\n",
       "</style>\n",
       "<table border=\"1\" class=\"dataframe\">\n",
       "  <thead>\n",
       "    <tr style=\"text-align: right;\">\n",
       "      <th></th>\n",
       "      <th>Customer ID</th>\n",
       "      <th>Age</th>\n",
       "      <th>Gender</th>\n",
       "      <th>Item Purchased</th>\n",
       "      <th>Category</th>\n",
       "      <th>Purchase Amount (USD)</th>\n",
       "      <th>Location</th>\n",
       "      <th>Size</th>\n",
       "      <th>Color</th>\n",
       "      <th>Season</th>\n",
       "      <th>Review Rating</th>\n",
       "      <th>Subscription Status</th>\n",
       "      <th>Shipping Type</th>\n",
       "      <th>Discount Applied</th>\n",
       "      <th>Promo Code Used</th>\n",
       "      <th>Previous Purchases</th>\n",
       "      <th>Payment Method</th>\n",
       "      <th>Frequency of Purchases</th>\n",
       "      <th>Sale Applied</th>\n",
       "    </tr>\n",
       "  </thead>\n",
       "  <tbody>\n",
       "    <tr>\n",
       "      <th>0</th>\n",
       "      <td>1</td>\n",
       "      <td>55.0</td>\n",
       "      <td>Male</td>\n",
       "      <td>Blouse</td>\n",
       "      <td>Clothing</td>\n",
       "      <td>53</td>\n",
       "      <td>Kentucky</td>\n",
       "      <td>L</td>\n",
       "      <td>Gray</td>\n",
       "      <td>Winter</td>\n",
       "      <td>3.1</td>\n",
       "      <td>Yes</td>\n",
       "      <td>Express</td>\n",
       "      <td>Yes</td>\n",
       "      <td>Yes</td>\n",
       "      <td>14</td>\n",
       "      <td>Venmo</td>\n",
       "      <td>Fortnightly</td>\n",
       "      <td>Yes</td>\n",
       "    </tr>\n",
       "    <tr>\n",
       "      <th>1</th>\n",
       "      <td>2</td>\n",
       "      <td>19.0</td>\n",
       "      <td>Male</td>\n",
       "      <td>Sweater</td>\n",
       "      <td>Clothing</td>\n",
       "      <td>64</td>\n",
       "      <td>Maine</td>\n",
       "      <td>L</td>\n",
       "      <td>Maroon</td>\n",
       "      <td>Winter</td>\n",
       "      <td>3.1</td>\n",
       "      <td>Yes</td>\n",
       "      <td>Express</td>\n",
       "      <td>Yes</td>\n",
       "      <td>Yes</td>\n",
       "      <td>2</td>\n",
       "      <td>Cash</td>\n",
       "      <td>Fortnightly</td>\n",
       "      <td>Yes</td>\n",
       "    </tr>\n",
       "    <tr>\n",
       "      <th>2</th>\n",
       "      <td>3</td>\n",
       "      <td>50.0</td>\n",
       "      <td>Male</td>\n",
       "      <td>Jeans</td>\n",
       "      <td>Clothing</td>\n",
       "      <td>73</td>\n",
       "      <td>Massachusetts</td>\n",
       "      <td>S</td>\n",
       "      <td>Maroon</td>\n",
       "      <td>Spring</td>\n",
       "      <td>3.1</td>\n",
       "      <td>Yes</td>\n",
       "      <td>Free Shipping</td>\n",
       "      <td>Yes</td>\n",
       "      <td>Yes</td>\n",
       "      <td>23</td>\n",
       "      <td>Credit Card</td>\n",
       "      <td>Weekly</td>\n",
       "      <td>Yes</td>\n",
       "    </tr>\n",
       "    <tr>\n",
       "      <th>3</th>\n",
       "      <td>4</td>\n",
       "      <td>21.0</td>\n",
       "      <td>Male</td>\n",
       "      <td>Sandals</td>\n",
       "      <td>Footwear</td>\n",
       "      <td>90</td>\n",
       "      <td>Rhode Island</td>\n",
       "      <td>M</td>\n",
       "      <td>Maroon</td>\n",
       "      <td>Spring</td>\n",
       "      <td>3.5</td>\n",
       "      <td>Yes</td>\n",
       "      <td>Next Day Air</td>\n",
       "      <td>Yes</td>\n",
       "      <td>Yes</td>\n",
       "      <td>49</td>\n",
       "      <td>PayPal</td>\n",
       "      <td>Weekly</td>\n",
       "      <td>Yes</td>\n",
       "    </tr>\n",
       "    <tr>\n",
       "      <th>4</th>\n",
       "      <td>5</td>\n",
       "      <td>45.0</td>\n",
       "      <td>Male</td>\n",
       "      <td>Blouse</td>\n",
       "      <td>Clothing</td>\n",
       "      <td>49</td>\n",
       "      <td>Oregon</td>\n",
       "      <td>M</td>\n",
       "      <td>Turquoise</td>\n",
       "      <td>Spring</td>\n",
       "      <td>2.7</td>\n",
       "      <td>Yes</td>\n",
       "      <td>Free Shipping</td>\n",
       "      <td>Yes</td>\n",
       "      <td>Yes</td>\n",
       "      <td>31</td>\n",
       "      <td>PayPal</td>\n",
       "      <td>Annually</td>\n",
       "      <td>Yes</td>\n",
       "    </tr>\n",
       "  </tbody>\n",
       "</table>\n",
       "</div>"
      ],
      "text/plain": [
       "   Customer ID   Age Gender Item Purchased  Category  Purchase Amount (USD)  \\\n",
       "0            1  55.0   Male         Blouse  Clothing                     53   \n",
       "1            2  19.0   Male        Sweater  Clothing                     64   \n",
       "2            3  50.0   Male          Jeans  Clothing                     73   \n",
       "3            4  21.0   Male        Sandals  Footwear                     90   \n",
       "4            5  45.0   Male         Blouse  Clothing                     49   \n",
       "\n",
       "        Location Size      Color  Season  Review Rating Subscription Status  \\\n",
       "0       Kentucky    L       Gray  Winter            3.1                 Yes   \n",
       "1          Maine    L     Maroon  Winter            3.1                 Yes   \n",
       "2  Massachusetts    S     Maroon  Spring            3.1                 Yes   \n",
       "3   Rhode Island    M     Maroon  Spring            3.5                 Yes   \n",
       "4         Oregon    M  Turquoise  Spring            2.7                 Yes   \n",
       "\n",
       "   Shipping Type Discount Applied Promo Code Used  Previous Purchases  \\\n",
       "0        Express              Yes             Yes                  14   \n",
       "1        Express              Yes             Yes                   2   \n",
       "2  Free Shipping              Yes             Yes                  23   \n",
       "3   Next Day Air              Yes             Yes                  49   \n",
       "4  Free Shipping              Yes             Yes                  31   \n",
       "\n",
       "  Payment Method Frequency of Purchases Sale Applied  \n",
       "0          Venmo            Fortnightly          Yes  \n",
       "1           Cash            Fortnightly          Yes  \n",
       "2    Credit Card                 Weekly          Yes  \n",
       "3         PayPal                 Weekly          Yes  \n",
       "4         PayPal               Annually          Yes  "
      ]
     },
     "metadata": {},
     "output_type": "display_data"
    }
   ],
   "source": [
    "# Shfaqja e disa rreshtave të parë të datasetit me zhurmë\n",
    "printo_datasetin(\"Dataset-i me zhurmë\", df)"
   ]
  },
  {
   "cell_type": "code",
   "execution_count": 94,
   "metadata": {},
   "outputs": [
    {
     "data": {
      "image/png": "[encoded data removed]",
      "text/plain": [
       "<Figure size 640x480 with 1 Axes>"
      ]
     },
     "metadata": {},
     "output_type": "display_data"
    }
   ],
   "source": [
    "# -----------  Vizualizimi i dataset-it me zhurmë (Para Pastrimit) -----------\n",
    "\n",
    "plt.boxplot(df[kolona_zhurme])\n",
    "plt.title(f'Boxplot i {kolona_zhurme} (Para Pastrimit)')\n",
    "plt.show()"
   ]
  },
  {
   "cell_type": "code",
   "execution_count": 96,
   "metadata": {},
   "outputs": [],
   "source": [
    "# ----------- Trajtimi i  zhurmës bazuar në metodën IQR -----------\n",
    "\n",
    "# Heqja e outliers bazuar në shtrirjen e kuadrit (IQR)\n",
    "Q1 = df[kolona_zhurme].quantile(0.25)\n",
    "Q3 = df[kolona_zhurme].quantile(0.75)\n",
    "IQR = Q3 - Q1\n",
    "limiti_i_ulët = Q1 - 1.5 * IQR\n",
    "limiti_i_lartë = Q3 + 1.5 * IQR"
   ]
  },
  {
   "cell_type": "code",
   "execution_count": 95,
   "metadata": {},
   "outputs": [],
   "source": [
    "# Pastrimi i dataset-it\n",
    "df_pastruar = df[(df[kolona_zhurme] >= limiti_i_ulët) & (df[kolona_zhurme] <= limiti_i_lartë)]"
   ]
  },
  {
   "cell_type": "code",
   "execution_count": 97,
   "metadata": {},
   "outputs": [
    {
     "data": {
      "image/png": "[encoded data removed]",
      "text/plain": [
       "<Figure size 640x480 with 1 Axes>"
      ]
     },
     "metadata": {},
     "output_type": "display_data"
    }
   ],
   "source": [
    "# ----------- Vizualizimi i datasetit te pastruar me zhurmë -----------\n",
    "\n",
    "plt.boxplot(df_pastruar[kolona_zhurme])\n",
    "plt.title(f'Boxplot i {kolona_zhurme} (Pas Pastrimit)')\n",
    "plt.show()"
   ]
  },
  {
   "cell_type": "code",
   "execution_count": 114,
   "metadata": {},
   "outputs": [],
   "source": [
    "# ----------- Shto zhurmë në kolonën \"Category\" -----------\n",
    "shto_zhurme_ne_kategori(df)"
   ]
  },
  {
   "cell_type": "code",
   "execution_count": 115,
   "metadata": {},
   "outputs": [
    {
     "name": "stdout",
     "output_type": "stream",
     "text": [
      "\n",
      "Dataset-i me zhurmë:\n"
     ]
    },
    {
     "data": {
      "text/html": [
       "<div>\n",
       "<style scoped>\n",
       "    .dataframe tbody tr th:only-of-type {\n",
       "        vertical-align: middle;\n",
       "    }\n",
       "\n",
       "    .dataframe tbody tr th {\n",
       "        vertical-align: top;\n",
       "    }\n",
       "\n",
       "    .dataframe thead th {\n",
       "        text-align: right;\n",
       "    }\n",
       "</style>\n",
       "<table border=\"1\" class=\"dataframe\">\n",
       "  <thead>\n",
       "    <tr style=\"text-align: right;\">\n",
       "      <th></th>\n",
       "      <th>Customer ID</th>\n",
       "      <th>Age</th>\n",
       "      <th>Gender</th>\n",
       "      <th>Item Purchased</th>\n",
       "      <th>Category</th>\n",
       "      <th>Purchase Amount (USD)</th>\n",
       "      <th>Location</th>\n",
       "      <th>Size</th>\n",
       "      <th>Color</th>\n",
       "      <th>Season</th>\n",
       "      <th>Review Rating</th>\n",
       "      <th>Subscription Status</th>\n",
       "      <th>Shipping Type</th>\n",
       "      <th>Discount Applied</th>\n",
       "      <th>Promo Code Used</th>\n",
       "      <th>Previous Purchases</th>\n",
       "      <th>Payment Method</th>\n",
       "      <th>Frequency of Purchases</th>\n",
       "      <th>Sale Applied</th>\n",
       "    </tr>\n",
       "  </thead>\n",
       "  <tbody>\n",
       "    <tr>\n",
       "      <th>0</th>\n",
       "      <td>1</td>\n",
       "      <td>55.0</td>\n",
       "      <td>Male</td>\n",
       "      <td>Blouse</td>\n",
       "      <td>ClothingSpecial</td>\n",
       "      <td>53</td>\n",
       "      <td>Kentucky</td>\n",
       "      <td>L</td>\n",
       "      <td>Gray</td>\n",
       "      <td>Winter</td>\n",
       "      <td>3.1</td>\n",
       "      <td>Yes</td>\n",
       "      <td>Express</td>\n",
       "      <td>Yes</td>\n",
       "      <td>Yes</td>\n",
       "      <td>14</td>\n",
       "      <td>Venmo</td>\n",
       "      <td>Fortnightly</td>\n",
       "      <td>Yes</td>\n",
       "    </tr>\n",
       "    <tr>\n",
       "      <th>1</th>\n",
       "      <td>2</td>\n",
       "      <td>19.0</td>\n",
       "      <td>Male</td>\n",
       "      <td>Sweater</td>\n",
       "      <td>Clothing</td>\n",
       "      <td>64</td>\n",
       "      <td>Maine</td>\n",
       "      <td>L</td>\n",
       "      <td>Maroon</td>\n",
       "      <td>Winter</td>\n",
       "      <td>3.1</td>\n",
       "      <td>Yes</td>\n",
       "      <td>Express</td>\n",
       "      <td>Yes</td>\n",
       "      <td>Yes</td>\n",
       "      <td>2</td>\n",
       "      <td>Cash</td>\n",
       "      <td>Fortnightly</td>\n",
       "      <td>Yes</td>\n",
       "    </tr>\n",
       "    <tr>\n",
       "      <th>2</th>\n",
       "      <td>3</td>\n",
       "      <td>50.0</td>\n",
       "      <td>Male</td>\n",
       "      <td>Jeans</td>\n",
       "      <td>Clothing</td>\n",
       "      <td>73</td>\n",
       "      <td>Massachusetts</td>\n",
       "      <td>S</td>\n",
       "      <td>Maroon</td>\n",
       "      <td>Spring</td>\n",
       "      <td>3.1</td>\n",
       "      <td>Yes</td>\n",
       "      <td>Free Shipping</td>\n",
       "      <td>Yes</td>\n",
       "      <td>Yes</td>\n",
       "      <td>23</td>\n",
       "      <td>Credit Card</td>\n",
       "      <td>Weekly</td>\n",
       "      <td>Yes</td>\n",
       "    </tr>\n",
       "    <tr>\n",
       "      <th>3</th>\n",
       "      <td>4</td>\n",
       "      <td>21.0</td>\n",
       "      <td>Male</td>\n",
       "      <td>Sandals</td>\n",
       "      <td>FootwearLimited Edition</td>\n",
       "      <td>90</td>\n",
       "      <td>Rhode Island</td>\n",
       "      <td>M</td>\n",
       "      <td>Maroon</td>\n",
       "      <td>Spring</td>\n",
       "      <td>3.5</td>\n",
       "      <td>Yes</td>\n",
       "      <td>Next Day Air</td>\n",
       "      <td>Yes</td>\n",
       "      <td>Yes</td>\n",
       "      <td>49</td>\n",
       "      <td>PayPal</td>\n",
       "      <td>Weekly</td>\n",
       "      <td>Yes</td>\n",
       "    </tr>\n",
       "    <tr>\n",
       "      <th>4</th>\n",
       "      <td>5</td>\n",
       "      <td>45.0</td>\n",
       "      <td>Male</td>\n",
       "      <td>Blouse</td>\n",
       "      <td>Clothing</td>\n",
       "      <td>49</td>\n",
       "      <td>Oregon</td>\n",
       "      <td>M</td>\n",
       "      <td>Turquoise</td>\n",
       "      <td>Spring</td>\n",
       "      <td>2.7</td>\n",
       "      <td>Yes</td>\n",
       "      <td>Free Shipping</td>\n",
       "      <td>Yes</td>\n",
       "      <td>Yes</td>\n",
       "      <td>31</td>\n",
       "      <td>PayPal</td>\n",
       "      <td>Annually</td>\n",
       "      <td>Yes</td>\n",
       "    </tr>\n",
       "  </tbody>\n",
       "</table>\n",
       "</div>"
      ],
      "text/plain": [
       "   Customer ID   Age Gender Item Purchased                  Category  \\\n",
       "0            1  55.0   Male         Blouse          ClothingSpecial    \n",
       "1            2  19.0   Male        Sweater                  Clothing   \n",
       "2            3  50.0   Male          Jeans                  Clothing   \n",
       "3            4  21.0   Male        Sandals  FootwearLimited Edition    \n",
       "4            5  45.0   Male         Blouse                  Clothing   \n",
       "\n",
       "   Purchase Amount (USD)       Location Size      Color  Season  \\\n",
       "0                     53       Kentucky    L       Gray  Winter   \n",
       "1                     64          Maine    L     Maroon  Winter   \n",
       "2                     73  Massachusetts    S     Maroon  Spring   \n",
       "3                     90   Rhode Island    M     Maroon  Spring   \n",
       "4                     49         Oregon    M  Turquoise  Spring   \n",
       "\n",
       "   Review Rating Subscription Status  Shipping Type Discount Applied  \\\n",
       "0            3.1                 Yes        Express              Yes   \n",
       "1            3.1                 Yes        Express              Yes   \n",
       "2            3.1                 Yes  Free Shipping              Yes   \n",
       "3            3.5                 Yes   Next Day Air              Yes   \n",
       "4            2.7                 Yes  Free Shipping              Yes   \n",
       "\n",
       "  Promo Code Used  Previous Purchases Payment Method Frequency of Purchases  \\\n",
       "0             Yes                  14          Venmo            Fortnightly   \n",
       "1             Yes                   2           Cash            Fortnightly   \n",
       "2             Yes                  23    Credit Card                 Weekly   \n",
       "3             Yes                  49         PayPal                 Weekly   \n",
       "4             Yes                  31         PayPal               Annually   \n",
       "\n",
       "  Sale Applied  \n",
       "0          Yes  \n",
       "1          Yes  \n",
       "2          Yes  \n",
       "3          Yes  \n",
       "4          Yes  "
      ]
     },
     "metadata": {},
     "output_type": "display_data"
    }
   ],
   "source": [
    "# Shfaq datasetin me zhurmë\n",
    "printo_datasetin(\"Dataset-i me zhurmë\", df)"
   ]
  },
  {
   "cell_type": "code",
   "execution_count": 120,
   "metadata": {},
   "outputs": [
    {
     "data": {
      "text/plain": [
       "<Figure size 1000x600 with 0 Axes>"
      ]
     },
     "metadata": {},
     "output_type": "display_data"
    },
    {
     "data": {
      "image/png": "[encoded data removed]",
      "text/plain": [
       "<Figure size 640x480 with 1 Axes>"
      ]
     },
     "metadata": {},
     "output_type": "display_data"
    }
   ],
   "source": [
    "# Shfaq boxplotin me zhurmë\n",
    "shfaq_boxplotin_per_zhurme('Boxplot me Zhurmë', df)"
   ]
  },
  {
   "cell_type": "code",
   "execution_count": 121,
   "metadata": {},
   "outputs": [],
   "source": [
    "# Hiqe të dhënat me zhurmë\n",
    "df['Category'] = df['Category'].str.replace('|'.join(lista_e_kategorive_zhurme), '', regex=True)\n",
    "df = df[df['Category'] != '']  # Hiqe rreshtat ku 'Category' është e zbrazët"
   ]
  },
  {
   "cell_type": "code",
   "execution_count": 122,
   "metadata": {},
   "outputs": [
    {
     "name": "stdout",
     "output_type": "stream",
     "text": [
      "\n",
      "Dataset-i pa zhurmë:\n"
     ]
    },
    {
     "data": {
      "text/html": [
       "<div>\n",
       "<style scoped>\n",
       "    .dataframe tbody tr th:only-of-type {\n",
       "        vertical-align: middle;\n",
       "    }\n",
       "\n",
       "    .dataframe tbody tr th {\n",
       "        vertical-align: top;\n",
       "    }\n",
       "\n",
       "    .dataframe thead th {\n",
       "        text-align: right;\n",
       "    }\n",
       "</style>\n",
       "<table border=\"1\" class=\"dataframe\">\n",
       "  <thead>\n",
       "    <tr style=\"text-align: right;\">\n",
       "      <th></th>\n",
       "      <th>Customer ID</th>\n",
       "      <th>Age</th>\n",
       "      <th>Gender</th>\n",
       "      <th>Item Purchased</th>\n",
       "      <th>Category</th>\n",
       "      <th>Purchase Amount (USD)</th>\n",
       "      <th>Location</th>\n",
       "      <th>Size</th>\n",
       "      <th>Color</th>\n",
       "      <th>Season</th>\n",
       "      <th>Review Rating</th>\n",
       "      <th>Subscription Status</th>\n",
       "      <th>Shipping Type</th>\n",
       "      <th>Discount Applied</th>\n",
       "      <th>Promo Code Used</th>\n",
       "      <th>Previous Purchases</th>\n",
       "      <th>Payment Method</th>\n",
       "      <th>Frequency of Purchases</th>\n",
       "      <th>Sale Applied</th>\n",
       "    </tr>\n",
       "  </thead>\n",
       "  <tbody>\n",
       "    <tr>\n",
       "      <th>0</th>\n",
       "      <td>1</td>\n",
       "      <td>55.0</td>\n",
       "      <td>Male</td>\n",
       "      <td>Blouse</td>\n",
       "      <td>Clothing</td>\n",
       "      <td>53</td>\n",
       "      <td>Kentucky</td>\n",
       "      <td>L</td>\n",
       "      <td>Gray</td>\n",
       "      <td>Winter</td>\n",
       "      <td>3.1</td>\n",
       "      <td>Yes</td>\n",
       "      <td>Express</td>\n",
       "      <td>Yes</td>\n",
       "      <td>Yes</td>\n",
       "      <td>14</td>\n",
       "      <td>Venmo</td>\n",
       "      <td>Fortnightly</td>\n",
       "      <td>Yes</td>\n",
       "    </tr>\n",
       "    <tr>\n",
       "      <th>1</th>\n",
       "      <td>2</td>\n",
       "      <td>19.0</td>\n",
       "      <td>Male</td>\n",
       "      <td>Sweater</td>\n",
       "      <td>Clothing</td>\n",
       "      <td>64</td>\n",
       "      <td>Maine</td>\n",
       "      <td>L</td>\n",
       "      <td>Maroon</td>\n",
       "      <td>Winter</td>\n",
       "      <td>3.1</td>\n",
       "      <td>Yes</td>\n",
       "      <td>Express</td>\n",
       "      <td>Yes</td>\n",
       "      <td>Yes</td>\n",
       "      <td>2</td>\n",
       "      <td>Cash</td>\n",
       "      <td>Fortnightly</td>\n",
       "      <td>Yes</td>\n",
       "    </tr>\n",
       "    <tr>\n",
       "      <th>2</th>\n",
       "      <td>3</td>\n",
       "      <td>50.0</td>\n",
       "      <td>Male</td>\n",
       "      <td>Jeans</td>\n",
       "      <td>Clothing</td>\n",
       "      <td>73</td>\n",
       "      <td>Massachusetts</td>\n",
       "      <td>S</td>\n",
       "      <td>Maroon</td>\n",
       "      <td>Spring</td>\n",
       "      <td>3.1</td>\n",
       "      <td>Yes</td>\n",
       "      <td>Free Shipping</td>\n",
       "      <td>Yes</td>\n",
       "      <td>Yes</td>\n",
       "      <td>23</td>\n",
       "      <td>Credit Card</td>\n",
       "      <td>Weekly</td>\n",
       "      <td>Yes</td>\n",
       "    </tr>\n",
       "    <tr>\n",
       "      <th>3</th>\n",
       "      <td>4</td>\n",
       "      <td>21.0</td>\n",
       "      <td>Male</td>\n",
       "      <td>Sandals</td>\n",
       "      <td>Footwear</td>\n",
       "      <td>90</td>\n",
       "      <td>Rhode Island</td>\n",
       "      <td>M</td>\n",
       "      <td>Maroon</td>\n",
       "      <td>Spring</td>\n",
       "      <td>3.5</td>\n",
       "      <td>Yes</td>\n",
       "      <td>Next Day Air</td>\n",
       "      <td>Yes</td>\n",
       "      <td>Yes</td>\n",
       "      <td>49</td>\n",
       "      <td>PayPal</td>\n",
       "      <td>Weekly</td>\n",
       "      <td>Yes</td>\n",
       "    </tr>\n",
       "    <tr>\n",
       "      <th>4</th>\n",
       "      <td>5</td>\n",
       "      <td>45.0</td>\n",
       "      <td>Male</td>\n",
       "      <td>Blouse</td>\n",
       "      <td>Clothing</td>\n",
       "      <td>49</td>\n",
       "      <td>Oregon</td>\n",
       "      <td>M</td>\n",
       "      <td>Turquoise</td>\n",
       "      <td>Spring</td>\n",
       "      <td>2.7</td>\n",
       "      <td>Yes</td>\n",
       "      <td>Free Shipping</td>\n",
       "      <td>Yes</td>\n",
       "      <td>Yes</td>\n",
       "      <td>31</td>\n",
       "      <td>PayPal</td>\n",
       "      <td>Annually</td>\n",
       "      <td>Yes</td>\n",
       "    </tr>\n",
       "  </tbody>\n",
       "</table>\n",
       "</div>"
      ],
      "text/plain": [
       "   Customer ID   Age Gender Item Purchased  Category  Purchase Amount (USD)  \\\n",
       "0            1  55.0   Male         Blouse  Clothing                     53   \n",
       "1            2  19.0   Male        Sweater  Clothing                     64   \n",
       "2            3  50.0   Male          Jeans  Clothing                     73   \n",
       "3            4  21.0   Male        Sandals  Footwear                     90   \n",
       "4            5  45.0   Male         Blouse  Clothing                     49   \n",
       "\n",
       "        Location Size      Color  Season  Review Rating Subscription Status  \\\n",
       "0       Kentucky    L       Gray  Winter            3.1                 Yes   \n",
       "1          Maine    L     Maroon  Winter            3.1                 Yes   \n",
       "2  Massachusetts    S     Maroon  Spring            3.1                 Yes   \n",
       "3   Rhode Island    M     Maroon  Spring            3.5                 Yes   \n",
       "4         Oregon    M  Turquoise  Spring            2.7                 Yes   \n",
       "\n",
       "   Shipping Type Discount Applied Promo Code Used  Previous Purchases  \\\n",
       "0        Express              Yes             Yes                  14   \n",
       "1        Express              Yes             Yes                   2   \n",
       "2  Free Shipping              Yes             Yes                  23   \n",
       "3   Next Day Air              Yes             Yes                  49   \n",
       "4  Free Shipping              Yes             Yes                  31   \n",
       "\n",
       "  Payment Method Frequency of Purchases Sale Applied  \n",
       "0          Venmo            Fortnightly          Yes  \n",
       "1           Cash            Fortnightly          Yes  \n",
       "2    Credit Card                 Weekly          Yes  \n",
       "3         PayPal                 Weekly          Yes  \n",
       "4         PayPal               Annually          Yes  "
      ]
     },
     "metadata": {},
     "output_type": "display_data"
    }
   ],
   "source": [
    "# Shfaq datasetin pa zhurmë\n",
    "printo_datasetin(\"Dataset-i pa zhurmë\", df)"
   ]
  },
  {
   "cell_type": "code",
   "execution_count": 123,
   "metadata": {},
   "outputs": [
    {
     "data": {
      "text/plain": [
       "<Figure size 1000x600 with 0 Axes>"
      ]
     },
     "metadata": {},
     "output_type": "display_data"
    },
    {
     "data": {
      "image/png": "[encoded data removed]",
      "text/plain": [
       "<Figure size 640x480 with 1 Axes>"
      ]
     },
     "metadata": {},
     "output_type": "display_data"
    }
   ],
   "source": [
    "# Shfaq boxplotin pa zhurmë\n",
    "shfaq_boxplotin_per_zhurme('Boxplot pa Zhurmë', df)"
   ]
  },
  {
   "cell_type": "markdown",
   "metadata": {},
   "source": [
    "### Preprocesimi i të dhënave"
   ]
  },
  {
   "cell_type": "markdown",
   "metadata": {},
   "source": [
    "- Reduktimi i dimensionalitetit"
   ]
  },
  {
   "cell_type": "code",
   "execution_count": 155,
   "metadata": {},
   "outputs": [],
   "source": [
    "# Pasi qe kolonat: Discount Applied (Yes/No) dhe Promo Code Used (Yes/No) paraqesin aplikim të zbritjeve të produktit, \n",
    "# informacionin e të dy kolonave mund ta paraqesim në kolonën Sale Applied.\n",
    "\n",
    "df['Sale Applied'] = df.apply(lambda row: 'Yes' if row['Discount Applied'] == 'Yes' or row['Promo Code Used'] == 'Yes' else 'No', axis=1)"
   ]
  },
  {
   "cell_type": "markdown",
   "metadata": {},
   "source": [
    "- Mostrimi i të dhënave"
   ]
  },
  {
   "cell_type": "code",
   "execution_count": 206,
   "metadata": {},
   "outputs": [
    {
     "data": {
      "image/png": "[encoded data removed]",
      "text/plain": [
       "<Figure size 2000x600 with 1 Axes>"
      ]
     },
     "metadata": {},
     "output_type": "display_data"
    }
   ],
   "source": [
    "# ----------- Paraqitja e ngjyrave më të përdorura gjatë stinëve -----------\n",
    "\n",
    "# Gjetja e gjinisë më të shpeshtë për çdo stinë me të dhënat e mostrës\n",
    "most_frequent_gender = gjej_gjinine_me_te_perdorur_per_stine(df)\n",
    "\n",
    "# Numri total i rasteve për gjininë më të shpeshtë në të gjitha stinët\n",
    "total_counts = most_frequent_gender['Counts'].sum()\n",
    "\n",
    "# Llogaritja e madhësive për grafikonin e pite\n",
    "sizes = most_frequent_gender['Counts'] / total_counts * 100\n",
    "\n",
    "# Përdorimi i një palete të paracaktuar të ngjyrave për gjinitë\n",
    "gender_colors = {'Male': 'blue', 'Female': 'pink'}\n",
    "\n",
    "# Aplikimi i ngjyrave bazuar në gjininë më të shpeshtë\n",
    "pie_colors = most_frequent_gender['Gender'].map(gender_colors)\n",
    "\n",
    "# Vizatimi i grafikonit të pite\n",
    "plt.figure(figsize=(20, 6))\n",
    "etiketat = most_frequent_gender['Season']\n",
    "shperthimi = [0.1] * len(etiketat)  # Shpërthimi i të gjitha felave\n",
    "\n",
    "plt.pie(sizes, labels=etiketat, colors=pie_colors, explode=shperthimi, autopct='%1.1f%%', startangle=140)\n",
    "plt.title('Gjinia më e shpeshtë e blerësve sipas stinës')\n",
    "plt.xlabel('Stinët', weight=\"bold\", color=\"#2F0F5D\", fontsize=14, labelpad=20)\n",
    "plt.axis('equal')\n",
    "plt.legend(labels=[f'{stina} ({gjinia})' for stina, gjinia in zip(etiketat, most_frequent_gender['Gender'])], loc=\"best\")\n",
    "plt.show()"
   ]
  },
  {
   "cell_type": "code",
   "execution_count": 209,
   "metadata": {},
   "outputs": [],
   "source": [
    "# Marrja e rreshtave të datasetit për mostrim\n",
    "sample_df = df.sample(n=500)"
   ]
  },
  {
   "cell_type": "code",
   "execution_count": 210,
   "metadata": {},
   "outputs": [
    {
     "data": {
      "image/png": "[encoded data removed]",
      "text/plain": [
       "<Figure size 2000x600 with 1 Axes>"
      ]
     },
     "metadata": {},
     "output_type": "display_data"
    }
   ],
   "source": [
    "# ----------- Paraqitja e ngjyrave më të përdorura gjatë stinëve me mostrim -----------\n",
    "\n",
    "# Gjetja e gjinisë më të shpeshtë për çdo stinë me të dhënat e mostrës\n",
    "most_frequent_gender = gjej_gjinine_me_te_perdorur_per_stine(sample_df)\n",
    "\n",
    "# Numri total i rasteve për gjininë më të shpeshtë në të gjitha stinët\n",
    "total_counts = most_frequent_gender['Counts'].sum()\n",
    "\n",
    "# Llogaritja e madhësive për grafikonin e pite\n",
    "sizes = most_frequent_gender['Counts'] / total_counts * 100\n",
    "\n",
    "# Përdorimi i një palete të paracaktuar të ngjyrave për gjinitë\n",
    "gender_colors = {'Male': 'blue', 'Female': 'pink'}\n",
    "\n",
    "# Aplikimi i ngjyrave bazuar në gjininë më të shpeshtë\n",
    "pie_colors = most_frequent_gender['Gender'].map(gender_colors)\n",
    "\n",
    "# Vizatimi i grafikonit të pite\n",
    "plt.figure(figsize=(20, 6))\n",
    "etiketat = most_frequent_gender['Season']\n",
    "shperthimi = [0.1] * len(etiketat) \n",
    "\n",
    "plt.pie(sizes, labels=etiketat, colors=pie_colors, explode=shperthimi, autopct='%1.1f%%', startangle=140)\n",
    "plt.title('Gjinia më e shpeshtë e blerësve sipas stinës')\n",
    "plt.xlabel('Stinët', weight=\"bold\", color=\"#2F0F5D\", fontsize=14, labelpad=20)\n",
    "plt.axis('equal')\n",
    "plt.legend(labels=[f'{stina} ({gjinia})' for stina, gjinia in zip(etiketat, most_frequent_gender['Gender'])], loc=\"best\")\n",
    "plt.show()"
   ]
  },
  {
   "cell_type": "markdown",
   "metadata": {},
   "source": [
    "- Agregimi i të dhënave"
   ]
  },
  {
   "cell_type": "code",
   "execution_count": 199,
   "metadata": {},
   "outputs": [
    {
     "name": "stdout",
     "output_type": "stream",
     "text": [
      "              Age  Purchase Amount (USD)\n",
      "Gender                                  \n",
      "Female  45.248736              60.553535\n",
      "Male    44.085657              59.032354\n"
     ]
    }
   ],
   "source": [
    "# ----------- Shembull i agregimit -----------\n",
    "\n",
    "# Agregimi i moshës mesatare dhe shumës së blerjes sipas gjinisë\n",
    "avg_age_purchase_by_gender = sample_df.groupby('Gender').agg({\n",
    "    'Age': 'mean',\n",
    "    'Purchase Amount (USD)': 'mean'\n",
    "})\n",
    "\n",
    "# Shfaq rezultatin\n",
    "print(avg_age_purchase_by_gender)"
   ]
  },
  {
   "cell_type": "code",
   "execution_count": 201,
   "metadata": {},
   "outputs": [
    {
     "data": {
      "image/png": "[encoded data removed]",
      "text/plain": [
       "<Figure size 640x480 with 1 Axes>"
      ]
     },
     "metadata": {},
     "output_type": "display_data"
    }
   ],
   "source": [
    "# ----------- Shembull i agregimit -----------\n",
    "\n",
    "# Agregimi i të dhënave\n",
    "total_purchase_by_category = sample_df.groupby('Category')['Purchase Amount (USD)'].sum()\n",
    "\n",
    "# Vizualizimi i të dhënave\n",
    "total_purchase_by_category.plot(kind='bar', color=colors)\n",
    "plt.xlabel('Category')\n",
    "plt.ylabel('Total Purchase Amount (USD)')\n",
    "plt.title('Shuma totale e blerjeve sipas kategorisë')\n",
    "plt.xticks(rotation=45)\n",
    "plt.show()"
   ]
  },
  {
   "cell_type": "markdown",
   "metadata": {},
   "source": [
    "- Kompresimi "
   ]
  },
  {
   "cell_type": "code",
   "execution_count": 208,
   "metadata": {},
   "outputs": [
    {
     "name": "stdout",
     "output_type": "stream",
     "text": [
      "Te dhenat jane te kompresuara dhe ruajtura ne compressed_data.csv.gz\n"
     ]
    }
   ],
   "source": [
    "# Ruajtja e Datasetit në një skedar CSV të kompresuar\n",
    "compressed_file_path = 'compressed_data.csv.gz'\n",
    "with gzip.open(compressed_file_path, 'wt', encoding='utf-8') as f:\n",
    "    df.to_csv(f, index=False)\n",
    "\n",
    "print(f\"Te dhenat jane te kompresuara dhe ruajtura ne {compressed_file_path}\")"
   ]
  },
  {
   "cell_type": "code",
   "execution_count": 213,
   "metadata": {},
   "outputs": [
    {
     "name": "stdout",
     "output_type": "stream",
     "text": [
      "\n",
      "Dataset-i i kompresuar:\n"
     ]
    },
    {
     "data": {
      "text/html": [
       "<div>\n",
       "<style scoped>\n",
       "    .dataframe tbody tr th:only-of-type {\n",
       "        vertical-align: middle;\n",
       "    }\n",
       "\n",
       "    .dataframe tbody tr th {\n",
       "        vertical-align: top;\n",
       "    }\n",
       "\n",
       "    .dataframe thead th {\n",
       "        text-align: right;\n",
       "    }\n",
       "</style>\n",
       "<table border=\"1\" class=\"dataframe\">\n",
       "  <thead>\n",
       "    <tr style=\"text-align: right;\">\n",
       "      <th></th>\n",
       "      <th>Customer ID</th>\n",
       "      <th>Age</th>\n",
       "      <th>Gender</th>\n",
       "      <th>Item Purchased</th>\n",
       "      <th>Category</th>\n",
       "      <th>Purchase Amount (USD)</th>\n",
       "      <th>Location</th>\n",
       "      <th>Size</th>\n",
       "      <th>Color</th>\n",
       "      <th>Season</th>\n",
       "      <th>Review Rating</th>\n",
       "      <th>Subscription Status</th>\n",
       "      <th>Shipping Type</th>\n",
       "      <th>Discount Applied</th>\n",
       "      <th>Promo Code Used</th>\n",
       "      <th>Previous Purchases</th>\n",
       "      <th>Payment Method</th>\n",
       "      <th>Frequency of Purchases</th>\n",
       "    </tr>\n",
       "  </thead>\n",
       "  <tbody>\n",
       "    <tr>\n",
       "      <th>0</th>\n",
       "      <td>1</td>\n",
       "      <td>55.0</td>\n",
       "      <td>Male</td>\n",
       "      <td>Blouse</td>\n",
       "      <td>Clothing</td>\n",
       "      <td>53</td>\n",
       "      <td>Kentucky</td>\n",
       "      <td>L</td>\n",
       "      <td>Gray</td>\n",
       "      <td>Winter</td>\n",
       "      <td>3.1</td>\n",
       "      <td>Yes</td>\n",
       "      <td>Express</td>\n",
       "      <td>Yes</td>\n",
       "      <td>Yes</td>\n",
       "      <td>14</td>\n",
       "      <td>Venmo</td>\n",
       "      <td>Fortnightly</td>\n",
       "    </tr>\n",
       "    <tr>\n",
       "      <th>1</th>\n",
       "      <td>2</td>\n",
       "      <td>19.0</td>\n",
       "      <td>Male</td>\n",
       "      <td>Sweater</td>\n",
       "      <td>Clothing</td>\n",
       "      <td>64</td>\n",
       "      <td>Maine</td>\n",
       "      <td>L</td>\n",
       "      <td>Maroon</td>\n",
       "      <td>Winter</td>\n",
       "      <td>3.1</td>\n",
       "      <td>Yes</td>\n",
       "      <td>Express</td>\n",
       "      <td>Yes</td>\n",
       "      <td>Yes</td>\n",
       "      <td>2</td>\n",
       "      <td>Cash</td>\n",
       "      <td>Fortnightly</td>\n",
       "    </tr>\n",
       "    <tr>\n",
       "      <th>2</th>\n",
       "      <td>3</td>\n",
       "      <td>50.0</td>\n",
       "      <td>Male</td>\n",
       "      <td>Jeans</td>\n",
       "      <td>Clothing</td>\n",
       "      <td>73</td>\n",
       "      <td>Massachusetts</td>\n",
       "      <td>S</td>\n",
       "      <td>Maroon</td>\n",
       "      <td>Spring</td>\n",
       "      <td>3.1</td>\n",
       "      <td>Yes</td>\n",
       "      <td>Free Shipping</td>\n",
       "      <td>Yes</td>\n",
       "      <td>Yes</td>\n",
       "      <td>23</td>\n",
       "      <td>Credit Card</td>\n",
       "      <td>Weekly</td>\n",
       "    </tr>\n",
       "    <tr>\n",
       "      <th>3</th>\n",
       "      <td>4</td>\n",
       "      <td>21.0</td>\n",
       "      <td>Male</td>\n",
       "      <td>Sandals</td>\n",
       "      <td>Footwear</td>\n",
       "      <td>90</td>\n",
       "      <td>Rhode Island</td>\n",
       "      <td>M</td>\n",
       "      <td>Maroon</td>\n",
       "      <td>Spring</td>\n",
       "      <td>3.5</td>\n",
       "      <td>Yes</td>\n",
       "      <td>Next Day Air</td>\n",
       "      <td>Yes</td>\n",
       "      <td>Yes</td>\n",
       "      <td>49</td>\n",
       "      <td>PayPal</td>\n",
       "      <td>Weekly</td>\n",
       "    </tr>\n",
       "    <tr>\n",
       "      <th>4</th>\n",
       "      <td>5</td>\n",
       "      <td>45.0</td>\n",
       "      <td>Male</td>\n",
       "      <td>Blouse</td>\n",
       "      <td>Clothing</td>\n",
       "      <td>49</td>\n",
       "      <td>Oregon</td>\n",
       "      <td>M</td>\n",
       "      <td>Turquoise</td>\n",
       "      <td>Spring</td>\n",
       "      <td>2.7</td>\n",
       "      <td>Yes</td>\n",
       "      <td>Free Shipping</td>\n",
       "      <td>Yes</td>\n",
       "      <td>Yes</td>\n",
       "      <td>31</td>\n",
       "      <td>PayPal</td>\n",
       "      <td>Annually</td>\n",
       "    </tr>\n",
       "  </tbody>\n",
       "</table>\n",
       "</div>"
      ],
      "text/plain": [
       "   Customer ID   Age Gender Item Purchased  Category  Purchase Amount (USD)  \\\n",
       "0            1  55.0   Male         Blouse  Clothing                     53   \n",
       "1            2  19.0   Male        Sweater  Clothing                     64   \n",
       "2            3  50.0   Male          Jeans  Clothing                     73   \n",
       "3            4  21.0   Male        Sandals  Footwear                     90   \n",
       "4            5  45.0   Male         Blouse  Clothing                     49   \n",
       "\n",
       "        Location Size      Color  Season  Review Rating Subscription Status  \\\n",
       "0       Kentucky    L       Gray  Winter            3.1                 Yes   \n",
       "1          Maine    L     Maroon  Winter            3.1                 Yes   \n",
       "2  Massachusetts    S     Maroon  Spring            3.1                 Yes   \n",
       "3   Rhode Island    M     Maroon  Spring            3.5                 Yes   \n",
       "4         Oregon    M  Turquoise  Spring            2.7                 Yes   \n",
       "\n",
       "   Shipping Type Discount Applied Promo Code Used  Previous Purchases  \\\n",
       "0        Express              Yes             Yes                  14   \n",
       "1        Express              Yes             Yes                   2   \n",
       "2  Free Shipping              Yes             Yes                  23   \n",
       "3   Next Day Air              Yes             Yes                  49   \n",
       "4  Free Shipping              Yes             Yes                  31   \n",
       "\n",
       "  Payment Method Frequency of Purchases  \n",
       "0          Venmo            Fortnightly  \n",
       "1           Cash            Fortnightly  \n",
       "2    Credit Card                 Weekly  \n",
       "3         PayPal                 Weekly  \n",
       "4         PayPal               Annually  "
      ]
     },
     "metadata": {},
     "output_type": "display_data"
    }
   ],
   "source": [
    "# Ngarko të dhënat e kompresuara në një DataFrame\n",
    "with gzip.open('compressed_data.csv.gz', 'rt', encoding='utf-8') as f:\n",
    "    df = pd.read_csv(f)\n",
    "\n",
    "# Display the DataFrame\n",
    "printo_datasetin(\"Dataset-i i kompresuar\", df)"
   ]
  },
  {
   "cell_type": "markdown",
   "metadata": {},
   "source": [
    "- Diskretizimi "
   ]
  },
  {
   "cell_type": "code",
   "execution_count": 214,
   "metadata": {},
   "outputs": [
    {
     "name": "stdout",
     "output_type": "stream",
     "text": [
      "        Age      Age Category\n",
      "0      55.0  Middle Age Adult\n",
      "1      19.0              Teen\n",
      "2      50.0  Middle Age Adult\n",
      "3      21.0             Adult\n",
      "4      45.0  Middle Age Adult\n",
      "...     ...               ...\n",
      "3946  420.0               NaN\n",
      "3947  215.0               NaN\n",
      "3948  205.0               NaN\n",
      "3949  270.0               NaN\n",
      "3950  700.0               NaN\n",
      "\n",
      "[3951 rows x 2 columns]\n"
     ]
    }
   ],
   "source": [
    "# Metoda e Binning për Lehtësimin e të Dhënave\n",
    "# 'Age' është kolona që duam të ndajme në bins (blloqe)\n",
    "# Përcaktimi i kufijëve të bins (blloqeve)\n",
    "age_bin_edges = [0, 1, 4, 12, 19, 39, 59, 100]\n",
    "\n",
    "# Krijimi i një kolonë të re me etiketa të bins (blloqeve)\n",
    "age_categories = ['Infant', 'Toddler', 'Child', 'Teen', 'Adult', 'Middle Age Adult', 'Senior Adult']\n",
    "df['Age Category'] = pd.cut(df['Age'], bins=age_bin_edges, labels=age_categories)\n",
    "\n",
    "# Shfaqja DataFrame\n",
    "print(df[['Age', 'Age Category']])"
   ]
  }
 ],
 "metadata": {
  "kernelspec": {
   "display_name": "Python 3",
   "language": "python",
   "name": "python3"
  },
  "language_info": {
   "codemirror_mode": {
    "name": "ipython",
    "version": 3
   },
   "file_extension": ".py",
   "mimetype": "text/x-python",
   "name": "python",
   "nbconvert_exporter": "python",
   "pygments_lexer": "ipython3",
   "version": "3.12.0"
  }
 },
 "nbformat": 4,
 "nbformat_minor": 2
}
