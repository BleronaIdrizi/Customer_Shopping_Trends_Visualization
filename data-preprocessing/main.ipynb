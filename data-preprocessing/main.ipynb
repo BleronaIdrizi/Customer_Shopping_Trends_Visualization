{
 "cells": [
  {
   "cell_type": "markdown",
   "metadata": {},
   "source": [
    "## Trendet e blerjeve të konsumatorëve \n",
    "Kjo analizë eksploron dhe analizon tendencat e blerjeve të klientëve duke përdorur një grup të dhënash. Analiza ofron njohuri mbi sjelljen e konsumatorëve dhe modelet e blerjeve duke përfshirë detaje të tilla si mosha, gjinia, historiku i blerjeve, mënyrat e preferuara të pagesës dhe shpeshtësia e blerjeve."
   ]
  },
  {
   "cell_type": "markdown",
   "metadata": {},
   "source": [
    "### Libraritë e përdorura"
   ]
  },
  {
   "cell_type": "code",
   "execution_count": 1,
   "metadata": {},
   "outputs": [],
   "source": [
    "import pandas as pd\n",
    "import seaborn as sns\n",
    "import numpy as np\n",
    "import matplotlib.pyplot as plt"
   ]
  },
  {
   "cell_type": "markdown",
   "metadata": {},
   "source": [
    "### Leximi i dataset-it"
   ]
  },
  {
   "cell_type": "code",
   "execution_count": 2,
   "metadata": {},
   "outputs": [],
   "source": [
    "df=pd.read_csv(\"../Shopping_Trends_Dataset.csv\")"
   ]
  },
  {
   "cell_type": "markdown",
   "metadata": {},
   "source": [
    "### Kualiteti i të dhënave "
   ]
  },
  {
   "cell_type": "markdown",
   "metadata": {},
   "source": [
    "- Struktura e bazës së të dhënave"
   ]
  },
  {
   "cell_type": "code",
   "execution_count": 108,
   "metadata": {},
   "outputs": [
    {
     "data": {
      "text/html": [
       "<div>\n",
       "<style scoped>\n",
       "    .dataframe tbody tr th:only-of-type {\n",
       "        vertical-align: middle;\n",
       "    }\n",
       "\n",
       "    .dataframe tbody tr th {\n",
       "        vertical-align: top;\n",
       "    }\n",
       "\n",
       "    .dataframe thead th {\n",
       "        text-align: right;\n",
       "    }\n",
       "</style>\n",
       "<table border=\"1\" class=\"dataframe\">\n",
       "  <thead>\n",
       "    <tr style=\"text-align: right;\">\n",
       "      <th></th>\n",
       "      <th>Customer ID</th>\n",
       "      <th>Age</th>\n",
       "      <th>Gender</th>\n",
       "      <th>Item Purchased</th>\n",
       "      <th>Category</th>\n",
       "      <th>Purchase Amount (USD)</th>\n",
       "      <th>Location</th>\n",
       "      <th>Size</th>\n",
       "      <th>Color</th>\n",
       "      <th>Season</th>\n",
       "      <th>Review Rating</th>\n",
       "      <th>Subscription Status</th>\n",
       "      <th>Shipping Type</th>\n",
       "      <th>Discount Applied</th>\n",
       "      <th>Promo Code Used</th>\n",
       "      <th>Previous Purchases</th>\n",
       "      <th>Payment Method</th>\n",
       "      <th>Frequency of Purchases</th>\n",
       "    </tr>\n",
       "  </thead>\n",
       "  <tbody>\n",
       "    <tr>\n",
       "      <th>0</th>\n",
       "      <td>1</td>\n",
       "      <td>55.0</td>\n",
       "      <td>Male</td>\n",
       "      <td>Blouse</td>\n",
       "      <td>Clothing</td>\n",
       "      <td>53</td>\n",
       "      <td>Kentucky</td>\n",
       "      <td>L</td>\n",
       "      <td>Gray</td>\n",
       "      <td>Winter</td>\n",
       "      <td>3.1</td>\n",
       "      <td>Yes</td>\n",
       "      <td>Express</td>\n",
       "      <td>Yes</td>\n",
       "      <td>Yes</td>\n",
       "      <td>14</td>\n",
       "      <td>Venmo</td>\n",
       "      <td>Fortnightly</td>\n",
       "    </tr>\n",
       "    <tr>\n",
       "      <th>1</th>\n",
       "      <td>2</td>\n",
       "      <td>19.0</td>\n",
       "      <td>Male</td>\n",
       "      <td>Sweater</td>\n",
       "      <td>Clothing</td>\n",
       "      <td>64</td>\n",
       "      <td>Maine</td>\n",
       "      <td>L</td>\n",
       "      <td>Maroon</td>\n",
       "      <td>Winter</td>\n",
       "      <td>3.1</td>\n",
       "      <td>Yes</td>\n",
       "      <td>Express</td>\n",
       "      <td>Yes</td>\n",
       "      <td>Yes</td>\n",
       "      <td>2</td>\n",
       "      <td>Cash</td>\n",
       "      <td>Fortnightly</td>\n",
       "    </tr>\n",
       "    <tr>\n",
       "      <th>2</th>\n",
       "      <td>3</td>\n",
       "      <td>50.0</td>\n",
       "      <td>Male</td>\n",
       "      <td>Jeans</td>\n",
       "      <td>Clothing</td>\n",
       "      <td>73</td>\n",
       "      <td>Massachusetts</td>\n",
       "      <td>S</td>\n",
       "      <td>Maroon</td>\n",
       "      <td>Spring</td>\n",
       "      <td>3.1</td>\n",
       "      <td>Yes</td>\n",
       "      <td>Free Shipping</td>\n",
       "      <td>Yes</td>\n",
       "      <td>Yes</td>\n",
       "      <td>23</td>\n",
       "      <td>Credit Card</td>\n",
       "      <td>Weekly</td>\n",
       "    </tr>\n",
       "    <tr>\n",
       "      <th>3</th>\n",
       "      <td>4</td>\n",
       "      <td>21.0</td>\n",
       "      <td>Male</td>\n",
       "      <td>Sandals</td>\n",
       "      <td>Footwear</td>\n",
       "      <td>90</td>\n",
       "      <td>Rhode Island</td>\n",
       "      <td>M</td>\n",
       "      <td>Maroon</td>\n",
       "      <td>Spring</td>\n",
       "      <td>3.5</td>\n",
       "      <td>Yes</td>\n",
       "      <td>Next Day Air</td>\n",
       "      <td>Yes</td>\n",
       "      <td>Yes</td>\n",
       "      <td>49</td>\n",
       "      <td>PayPal</td>\n",
       "      <td>Weekly</td>\n",
       "    </tr>\n",
       "    <tr>\n",
       "      <th>4</th>\n",
       "      <td>5</td>\n",
       "      <td>45.0</td>\n",
       "      <td>Male</td>\n",
       "      <td>Blouse</td>\n",
       "      <td>Clothing</td>\n",
       "      <td>49</td>\n",
       "      <td>Oregon</td>\n",
       "      <td>M</td>\n",
       "      <td>Turquoise</td>\n",
       "      <td>Spring</td>\n",
       "      <td>2.7</td>\n",
       "      <td>Yes</td>\n",
       "      <td>Free Shipping</td>\n",
       "      <td>Yes</td>\n",
       "      <td>Yes</td>\n",
       "      <td>31</td>\n",
       "      <td>PayPal</td>\n",
       "      <td>Annually</td>\n",
       "    </tr>\n",
       "  </tbody>\n",
       "</table>\n",
       "</div>"
      ],
      "text/plain": [
       "   Customer ID   Age Gender Item Purchased  Category  Purchase Amount (USD)  \\\n",
       "0            1  55.0   Male         Blouse  Clothing                     53   \n",
       "1            2  19.0   Male        Sweater  Clothing                     64   \n",
       "2            3  50.0   Male          Jeans  Clothing                     73   \n",
       "3            4  21.0   Male        Sandals  Footwear                     90   \n",
       "4            5  45.0   Male         Blouse  Clothing                     49   \n",
       "\n",
       "        Location Size      Color  Season  Review Rating Subscription Status  \\\n",
       "0       Kentucky    L       Gray  Winter            3.1                 Yes   \n",
       "1          Maine    L     Maroon  Winter            3.1                 Yes   \n",
       "2  Massachusetts    S     Maroon  Spring            3.1                 Yes   \n",
       "3   Rhode Island    M     Maroon  Spring            3.5                 Yes   \n",
       "4         Oregon    M  Turquoise  Spring            2.7                 Yes   \n",
       "\n",
       "   Shipping Type Discount Applied Promo Code Used  Previous Purchases  \\\n",
       "0        Express              Yes             Yes                  14   \n",
       "1        Express              Yes             Yes                   2   \n",
       "2  Free Shipping              Yes             Yes                  23   \n",
       "3   Next Day Air              Yes             Yes                  49   \n",
       "4  Free Shipping              Yes             Yes                  31   \n",
       "\n",
       "  Payment Method Frequency of Purchases  \n",
       "0          Venmo            Fortnightly  \n",
       "1           Cash            Fortnightly  \n",
       "2    Credit Card                 Weekly  \n",
       "3         PayPal                 Weekly  \n",
       "4         PayPal               Annually  "
      ]
     },
     "execution_count": 108,
     "metadata": {},
     "output_type": "execute_result"
    }
   ],
   "source": [
    "# Për ta kuptuar strukturën e të dhënave tona përdorim funksionin .head() për të hedhur një vështrim në rreshtat e parë.\n",
    "df.head()"
   ]
  },
  {
   "cell_type": "markdown",
   "metadata": {},
   "source": [
    "- Njohuri mbi llojet e të dhënave"
   ]
  },
  {
   "cell_type": "code",
   "execution_count": 29,
   "metadata": {},
   "outputs": [
    {
     "name": "stdout",
     "output_type": "stream",
     "text": [
      "<class 'pandas.core.frame.DataFrame'>\n",
      "RangeIndex: 3951 entries, 0 to 3950\n",
      "Data columns (total 18 columns):\n",
      " #   Column                  Non-Null Count  Dtype  \n",
      "---  ------                  --------------  -----  \n",
      " 0   Customer ID             3951 non-null   int64  \n",
      " 1   Age                     3948 non-null   float64\n",
      " 2   Gender                  3950 non-null   object \n",
      " 3   Item Purchased          3951 non-null   object \n",
      " 4   Category                3950 non-null   object \n",
      " 5   Purchase Amount (USD)   3951 non-null   int64  \n",
      " 6   Location                3951 non-null   object \n",
      " 7   Size                    3951 non-null   object \n",
      " 8   Color                   3951 non-null   object \n",
      " 9   Season                  3951 non-null   object \n",
      " 10  Review Rating           3951 non-null   float64\n",
      " 11  Subscription Status     3951 non-null   object \n",
      " 12  Shipping Type           3951 non-null   object \n",
      " 13  Discount Applied        3951 non-null   object \n",
      " 14  Promo Code Used         3951 non-null   object \n",
      " 15  Previous Purchases      3951 non-null   int64  \n",
      " 16  Payment Method          3951 non-null   object \n",
      " 17  Frequency of Purchases  3951 non-null   object \n",
      "dtypes: float64(2), int64(3), object(13)\n",
      "memory usage: 555.7+ KB\n"
     ]
    }
   ],
   "source": [
    "# Për të fituar njohuri mbi llojet e të dhënave ekzekutojmë këtë komandë:\n",
    "df.info()"
   ]
  },
  {
   "cell_type": "markdown",
   "metadata": {},
   "source": [
    "- Kontrollimi i vlerave null"
   ]
  },
  {
   "cell_type": "code",
   "execution_count": 47,
   "metadata": {},
   "outputs": [
    {
     "data": {
      "text/plain": [
       "Customer ID               0\n",
       "Age                       3\n",
       "Gender                    1\n",
       "Item Purchased            0\n",
       "Category                  1\n",
       "Purchase Amount (USD)     0\n",
       "Location                  0\n",
       "Size                      0\n",
       "Color                     0\n",
       "Season                    0\n",
       "Review Rating             0\n",
       "Subscription Status       0\n",
       "Shipping Type             0\n",
       "Discount Applied          0\n",
       "Promo Code Used           0\n",
       "Previous Purchases        0\n",
       "Payment Method            0\n",
       "Frequency of Purchases    0\n",
       "dtype: int64"
      ]
     },
     "execution_count": 47,
     "metadata": {},
     "output_type": "execute_result"
    }
   ],
   "source": [
    "# Komanda për kontrollimin e vlerave null:\n",
    "df.isnull().sum()"
   ]
  },
  {
   "cell_type": "markdown",
   "metadata": {},
   "source": [
    "- Zevëndësimi i vlerave null"
   ]
  },
  {
   "cell_type": "code",
   "execution_count": 31,
   "metadata": {},
   "outputs": [
    {
     "name": "stdout",
     "output_type": "stream",
     "text": [
      "Customer ID               0\n",
      "Age                       0\n",
      "Gender                    1\n",
      "Item Purchased            0\n",
      "Category                  1\n",
      "Purchase Amount (USD)     0\n",
      "Location                  0\n",
      "Size                      0\n",
      "Color                     0\n",
      "Season                    0\n",
      "Review Rating             0\n",
      "Subscription Status       0\n",
      "Shipping Type             0\n",
      "Discount Applied          0\n",
      "Promo Code Used           0\n",
      "Previous Purchases        0\n",
      "Payment Method            0\n",
      "Frequency of Purchases    0\n",
      "dtype: int64\n"
     ]
    }
   ],
   "source": [
    "# Kalkulimi i moshës mesatare, duke mos i përfshirë vlerat NaN\n",
    "average_age = df['Age'].mean()\n",
    "\n",
    "# Zevëndësimi i vlerave NaN i kolonës Age me moshën mesatare\n",
    "df['Age'].fillna(average_age, inplace=True)\n",
    "\n",
    "# Shfaqja e dataseti-it të modifikuar\n",
    "print(df.isnull().sum())"
   ]
  },
  {
   "cell_type": "markdown",
   "metadata": {},
   "source": [
    "- Kërkimi i duplikatëve"
   ]
  },
  {
   "cell_type": "code",
   "execution_count": 32,
   "metadata": {},
   "outputs": [
    {
     "name": "stdout",
     "output_type": "stream",
     "text": [
      "Duplikatet: 40\n"
     ]
    }
   ],
   "source": [
    "# Komanda për kërkimin e duplikateve dhe shfaqja e rezultatit\n",
    "print(\"Duplikatet: \" + str(df.duplicated().sum()))"
   ]
  },
  {
   "cell_type": "markdown",
   "metadata": {},
   "source": [
    "- Largimi i duplikateve"
   ]
  },
  {
   "cell_type": "code",
   "execution_count": 33,
   "metadata": {},
   "outputs": [
    {
     "name": "stdout",
     "output_type": "stream",
     "text": [
      "Duplikatet: 0\n"
     ]
    }
   ],
   "source": [
    "# Fshirja e duplikateve\n",
    "df.drop_duplicates(['Customer ID', 'Age', 'Gender', 'Item Purchased', 'Category', \n",
    "                    'Purchase Amount (USD)', 'Location', 'Size', 'Color', \n",
    "                    'Season', 'Review Rating', 'Subscription Status', \n",
    "                    'Shipping Type', 'Discount Applied', 'Promo Code Used', \n",
    "                    'Previous Purchases', 'Payment Method', 'Frequency of Purchases'], \n",
    "                   keep='first', inplace=True)\n",
    "\n",
    "# Kërkimi përsëri i duplikateve dhe shfaqja e rezultatit\n",
    "print(\"Duplikatet: \" + str(df.duplicated().sum()))"
   ]
  },
  {
   "cell_type": "markdown",
   "metadata": {},
   "source": [
    "### Outliers"
   ]
  },
  {
   "cell_type": "markdown",
   "metadata": {},
   "source": [
    "- Kërkimi i Outliers"
   ]
  },
  {
   "cell_type": "code",
   "execution_count": 12,
   "metadata": {},
   "outputs": [
    {
     "data": {
      "text/plain": [
       "<Axes: xlabel='Age'>"
      ]
     },
     "execution_count": 12,
     "metadata": {},
     "output_type": "execute_result"
    },
    {
     "data": {
      "image/png": "[encoded data removed]",
      "text/plain": [
       "<Figure size 640x480 with 1 Axes>"
      ]
     },
     "metadata": {},
     "output_type": "display_data"
    }
   ],
   "source": [
    "# Përdorimi i paketës seaborn për ti paraqitur Outliers\n",
    "sns.boxplot(df['Age'], orient='h')\n"
   ]
  },
  {
   "cell_type": "markdown",
   "metadata": {},
   "source": [
    "- Largimi i Outliers me metodën Z-Score"
   ]
  },
  {
   "cell_type": "code",
   "execution_count": 13,
   "metadata": {},
   "outputs": [
    {
     "name": "stdout",
     "output_type": "stream",
     "text": [
      "Limiti i sipërm: 105.64132200602393\n",
      "Limiti i poshtëm: -16.613459797310647\n"
     ]
    }
   ],
   "source": [
    "# Gjetja e limiteve\n",
    "upper_limit = df['Age'].mean() + 3*df['Age'].std()\n",
    "lower_limit = df['Age'].mean() - 3*df['Age'].std()\n",
    "print('Limiti i sipërm:', upper_limit)\n",
    "print('Limiti i poshtëm:', lower_limit)"
   ]
  },
  {
   "cell_type": "code",
   "execution_count": 14,
   "metadata": {},
   "outputs": [
    {
     "data": {
      "text/html": [
       "<div>\n",
       "<style scoped>\n",
       "    .dataframe tbody tr th:only-of-type {\n",
       "        vertical-align: middle;\n",
       "    }\n",
       "\n",
       "    .dataframe tbody tr th {\n",
       "        vertical-align: top;\n",
       "    }\n",
       "\n",
       "    .dataframe thead th {\n",
       "        text-align: right;\n",
       "    }\n",
       "</style>\n",
       "<table border=\"1\" class=\"dataframe\">\n",
       "  <thead>\n",
       "    <tr style=\"text-align: right;\">\n",
       "      <th></th>\n",
       "      <th>Customer ID</th>\n",
       "      <th>Age</th>\n",
       "      <th>Gender</th>\n",
       "      <th>Item Purchased</th>\n",
       "      <th>Category</th>\n",
       "      <th>Purchase Amount (USD)</th>\n",
       "      <th>Location</th>\n",
       "      <th>Size</th>\n",
       "      <th>Color</th>\n",
       "      <th>Season</th>\n",
       "      <th>Review Rating</th>\n",
       "      <th>Subscription Status</th>\n",
       "      <th>Shipping Type</th>\n",
       "      <th>Discount Applied</th>\n",
       "      <th>Promo Code Used</th>\n",
       "      <th>Previous Purchases</th>\n",
       "      <th>Payment Method</th>\n",
       "      <th>Frequency of Purchases</th>\n",
       "      <th>Sale Applied</th>\n",
       "    </tr>\n",
       "  </thead>\n",
       "  <tbody>\n",
       "    <tr>\n",
       "      <th>3944</th>\n",
       "      <td>3900</td>\n",
       "      <td>150.0</td>\n",
       "      <td>Female</td>\n",
       "      <td>Handbag</td>\n",
       "      <td>Accessories</td>\n",
       "      <td>81</td>\n",
       "      <td>California</td>\n",
       "      <td>M</td>\n",
       "      <td>Beige</td>\n",
       "      <td>Spring</td>\n",
       "      <td>3.1</td>\n",
       "      <td>No</td>\n",
       "      <td>Store Pickup</td>\n",
       "      <td>No</td>\n",
       "      <td>No</td>\n",
       "      <td>33</td>\n",
       "      <td>Venmo</td>\n",
       "      <td>Quarterly</td>\n",
       "      <td>No</td>\n",
       "    </tr>\n",
       "    <tr>\n",
       "      <th>3945</th>\n",
       "      <td>3900</td>\n",
       "      <td>240.0</td>\n",
       "      <td>Female</td>\n",
       "      <td>Handbag</td>\n",
       "      <td>Accessories</td>\n",
       "      <td>81</td>\n",
       "      <td>California</td>\n",
       "      <td>M</td>\n",
       "      <td>Beige</td>\n",
       "      <td>Spring</td>\n",
       "      <td>3.1</td>\n",
       "      <td>No</td>\n",
       "      <td>Store Pickup</td>\n",
       "      <td>No</td>\n",
       "      <td>No</td>\n",
       "      <td>33</td>\n",
       "      <td>Venmo</td>\n",
       "      <td>Quarterly</td>\n",
       "      <td>No</td>\n",
       "    </tr>\n",
       "    <tr>\n",
       "      <th>3946</th>\n",
       "      <td>3900</td>\n",
       "      <td>420.0</td>\n",
       "      <td>Female</td>\n",
       "      <td>Handbag</td>\n",
       "      <td>Accessories</td>\n",
       "      <td>81</td>\n",
       "      <td>California</td>\n",
       "      <td>M</td>\n",
       "      <td>Beige</td>\n",
       "      <td>Spring</td>\n",
       "      <td>3.1</td>\n",
       "      <td>No</td>\n",
       "      <td>Store Pickup</td>\n",
       "      <td>No</td>\n",
       "      <td>No</td>\n",
       "      <td>33</td>\n",
       "      <td>Venmo</td>\n",
       "      <td>Quarterly</td>\n",
       "      <td>No</td>\n",
       "    </tr>\n",
       "    <tr>\n",
       "      <th>3947</th>\n",
       "      <td>3900</td>\n",
       "      <td>215.0</td>\n",
       "      <td>Female</td>\n",
       "      <td>Handbag</td>\n",
       "      <td>Accessories</td>\n",
       "      <td>81</td>\n",
       "      <td>California</td>\n",
       "      <td>M</td>\n",
       "      <td>Beige</td>\n",
       "      <td>Spring</td>\n",
       "      <td>3.1</td>\n",
       "      <td>No</td>\n",
       "      <td>Store Pickup</td>\n",
       "      <td>No</td>\n",
       "      <td>No</td>\n",
       "      <td>33</td>\n",
       "      <td>Venmo</td>\n",
       "      <td>Quarterly</td>\n",
       "      <td>No</td>\n",
       "    </tr>\n",
       "    <tr>\n",
       "      <th>3948</th>\n",
       "      <td>3900</td>\n",
       "      <td>205.0</td>\n",
       "      <td>Female</td>\n",
       "      <td>Handbag</td>\n",
       "      <td>Accessories</td>\n",
       "      <td>81</td>\n",
       "      <td>California</td>\n",
       "      <td>M</td>\n",
       "      <td>Beige</td>\n",
       "      <td>Spring</td>\n",
       "      <td>3.1</td>\n",
       "      <td>No</td>\n",
       "      <td>Store Pickup</td>\n",
       "      <td>No</td>\n",
       "      <td>No</td>\n",
       "      <td>33</td>\n",
       "      <td>Venmo</td>\n",
       "      <td>Quarterly</td>\n",
       "      <td>No</td>\n",
       "    </tr>\n",
       "    <tr>\n",
       "      <th>3949</th>\n",
       "      <td>3900</td>\n",
       "      <td>270.0</td>\n",
       "      <td>Female</td>\n",
       "      <td>Handbag</td>\n",
       "      <td>Accessories</td>\n",
       "      <td>81</td>\n",
       "      <td>California</td>\n",
       "      <td>M</td>\n",
       "      <td>Beige</td>\n",
       "      <td>Spring</td>\n",
       "      <td>3.1</td>\n",
       "      <td>No</td>\n",
       "      <td>Store Pickup</td>\n",
       "      <td>No</td>\n",
       "      <td>No</td>\n",
       "      <td>33</td>\n",
       "      <td>Venmo</td>\n",
       "      <td>Quarterly</td>\n",
       "      <td>No</td>\n",
       "    </tr>\n",
       "    <tr>\n",
       "      <th>3950</th>\n",
       "      <td>3900</td>\n",
       "      <td>700.0</td>\n",
       "      <td>Female</td>\n",
       "      <td>Handbag</td>\n",
       "      <td>Accessories</td>\n",
       "      <td>81</td>\n",
       "      <td>California</td>\n",
       "      <td>M</td>\n",
       "      <td>Beige</td>\n",
       "      <td>Spring</td>\n",
       "      <td>3.1</td>\n",
       "      <td>No</td>\n",
       "      <td>Store Pickup</td>\n",
       "      <td>No</td>\n",
       "      <td>No</td>\n",
       "      <td>33</td>\n",
       "      <td>Venmo</td>\n",
       "      <td>Quarterly</td>\n",
       "      <td>No</td>\n",
       "    </tr>\n",
       "  </tbody>\n",
       "</table>\n",
       "</div>"
      ],
      "text/plain": [
       "      Customer ID    Age  Gender Item Purchased     Category  \\\n",
       "3944         3900  150.0  Female        Handbag  Accessories   \n",
       "3945         3900  240.0  Female        Handbag  Accessories   \n",
       "3946         3900  420.0  Female        Handbag  Accessories   \n",
       "3947         3900  215.0  Female        Handbag  Accessories   \n",
       "3948         3900  205.0  Female        Handbag  Accessories   \n",
       "3949         3900  270.0  Female        Handbag  Accessories   \n",
       "3950         3900  700.0  Female        Handbag  Accessories   \n",
       "\n",
       "      Purchase Amount (USD)    Location Size  Color  Season  Review Rating  \\\n",
       "3944                     81  California    M  Beige  Spring            3.1   \n",
       "3945                     81  California    M  Beige  Spring            3.1   \n",
       "3946                     81  California    M  Beige  Spring            3.1   \n",
       "3947                     81  California    M  Beige  Spring            3.1   \n",
       "3948                     81  California    M  Beige  Spring            3.1   \n",
       "3949                     81  California    M  Beige  Spring            3.1   \n",
       "3950                     81  California    M  Beige  Spring            3.1   \n",
       "\n",
       "     Subscription Status Shipping Type Discount Applied Promo Code Used  \\\n",
       "3944                  No  Store Pickup               No              No   \n",
       "3945                  No  Store Pickup               No              No   \n",
       "3946                  No  Store Pickup               No              No   \n",
       "3947                  No  Store Pickup               No              No   \n",
       "3948                  No  Store Pickup               No              No   \n",
       "3949                  No  Store Pickup               No              No   \n",
       "3950                  No  Store Pickup               No              No   \n",
       "\n",
       "      Previous Purchases Payment Method Frequency of Purchases Sale Applied  \n",
       "3944                  33          Venmo              Quarterly           No  \n",
       "3945                  33          Venmo              Quarterly           No  \n",
       "3946                  33          Venmo              Quarterly           No  \n",
       "3947                  33          Venmo              Quarterly           No  \n",
       "3948                  33          Venmo              Quarterly           No  \n",
       "3949                  33          Venmo              Quarterly           No  \n",
       "3950                  33          Venmo              Quarterly           No  "
      ]
     },
     "execution_count": 14,
     "metadata": {},
     "output_type": "execute_result"
    }
   ],
   "source": [
    "# Gjetja e Outliers\n",
    "df.loc[(df['Age'] > upper_limit) | (df['Age'] < lower_limit)]"
   ]
  },
  {
   "cell_type": "code",
   "execution_count": 15,
   "metadata": {},
   "outputs": [
    {
     "name": "stdout",
     "output_type": "stream",
     "text": [
      "Para largimit të Outliers: 3951\n",
      "Pas largimit të Outliers: 3941\n",
      "Outliers: 10\n"
     ]
    }
   ],
   "source": [
    "# Largimi i të dhënave që janë paraqitur si Outliers\n",
    "new_df = df.loc[(df['Age'] <= upper_limit) & (df['Age'] >= lower_limit)]\n",
    "print('Para largimit të Outliers:', len(df))\n",
    "print('Pas largimit të Outliers:',len(new_df))\n",
    "print('Outliers:', len(df)-len(new_df))"
   ]
  },
  {
   "cell_type": "markdown",
   "metadata": {},
   "source": [
    "- Paraqitja e dataset-it pa Outliers"
   ]
  },
  {
   "cell_type": "code",
   "execution_count": 16,
   "metadata": {},
   "outputs": [
    {
     "data": {
      "text/plain": [
       "<Axes: xlabel='Age'>"
      ]
     },
     "execution_count": 16,
     "metadata": {},
     "output_type": "execute_result"
    },
    {
     "data": {
      "image/png": "[encoded data removed]",
      "text/plain": [
       "<Figure size 640x480 with 1 Axes>"
      ]
     },
     "metadata": {},
     "output_type": "display_data"
    }
   ],
   "source": [
    "sns.boxplot(new_df['Age'], orient='h')"
   ]
  },
  {
   "cell_type": "markdown",
   "metadata": {},
   "source": [
    "### Preprocesimi i të dhënave"
   ]
  },
  {
   "cell_type": "markdown",
   "metadata": {},
   "source": [
    "- Reduktimi i dimensionalitetit"
   ]
  },
  {
   "cell_type": "code",
   "execution_count": 8,
   "metadata": {},
   "outputs": [],
   "source": [
    "# Pasi qe kolonat: Discount Applied (Yes/No) dhe Promo Code Used (Yes/No) paraqesin aplikim të zbritjeve të produktit, \n",
    "# informacionin e të dy kolonave mund ta paraqesim në kolonën Sale Applied.\n",
    "\n",
    "df['Sale Applied'] = df.apply(lambda row: 'Yes' if row['Discount Applied'] == 'Yes' or row['Promo Code Used'] == 'Yes' else 'No', axis=1)"
   ]
  },
  {
   "cell_type": "markdown",
   "metadata": {},
   "source": [
    "### Noisy data"
   ]
  },
  {
   "cell_type": "markdown",
   "metadata": {},
   "source": [
    "- Shtimi i zhurmës\n"
   ]
  },
  {
   "cell_type": "code",
   "execution_count": 3,
   "metadata": {},
   "outputs": [],
   "source": [
    "np.random.seed(42)\n",
    "# Shtimi i më shumë zhurmës në një kolonë numerike\n",
    "kolona_zhurme = 'Purchase Amount (USD)'\n",
    "df[kolona_zhurme] = df[kolona_zhurme] + np.random.normal(0, 20, size=len(df))"
   ]
  },
  {
   "cell_type": "code",
   "execution_count": 4,
   "metadata": {},
   "outputs": [
    {
     "name": "stdout",
     "output_type": "stream",
     "text": [
      "\n",
      "Dataset me Zhurmë:\n",
      "   Customer ID   Age Gender Item Purchased  Category  Purchase Amount (USD)  \\\n",
      "0            1  55.0   Male         Blouse  Clothing              62.934283   \n",
      "1            2  19.0   Male        Sweater  Clothing              61.234714   \n",
      "2            3  50.0   Male          Jeans  Clothing              85.953771   \n",
      "3            4  21.0   Male        Sandals  Footwear             120.460597   \n",
      "4            5  45.0   Male         Blouse  Clothing              44.316933   \n",
      "\n",
      "        Location Size      Color  Season  Review Rating Subscription Status  \\\n",
      "0       Kentucky    L       Gray  Winter            3.1                 Yes   \n",
      "1          Maine    L     Maroon  Winter            3.1                 Yes   \n",
      "2  Massachusetts    S     Maroon  Spring            3.1                 Yes   \n",
      "3   Rhode Island    M     Maroon  Spring            3.5                 Yes   \n",
      "4         Oregon    M  Turquoise  Spring            2.7                 Yes   \n",
      "\n",
      "   Shipping Type Discount Applied Promo Code Used  Previous Purchases  \\\n",
      "0        Express              Yes             Yes                  14   \n",
      "1        Express              Yes             Yes                   2   \n",
      "2  Free Shipping              Yes             Yes                  23   \n",
      "3   Next Day Air              Yes             Yes                  49   \n",
      "4  Free Shipping              Yes             Yes                  31   \n",
      "\n",
      "  Payment Method Frequency of Purchases  \n",
      "0          Venmo            Fortnightly  \n",
      "1           Cash            Fortnightly  \n",
      "2    Credit Card                 Weekly  \n",
      "3         PayPal                 Weekly  \n",
      "4         PayPal               Annually  \n"
     ]
    }
   ],
   "source": [
    "# Shfaqja e disa rreshtave të parë të datasetit me zhurmë\n",
    "print(\"\\nDataset me Zhurmë:\")\n",
    "print(df.head())"
   ]
  },
  {
   "cell_type": "markdown",
   "metadata": {},
   "source": [
    "- Vizualizimi i datasetit me zhurmë\n"
   ]
  },
  {
   "cell_type": "code",
   "execution_count": 5,
   "metadata": {},
   "outputs": [
    {
     "data": {
      "image/png": "[encoded data removed]",
      "text/plain": [
       "<Figure size 640x480 with 1 Axes>"
      ]
     },
     "metadata": {},
     "output_type": "display_data"
    }
   ],
   "source": [
    "# Vizualizimi i datasetit me zhurmë (Para Pastrimit)\n",
    "plt.boxplot(df[kolona_zhurme])\n",
    "plt.title(f'Boxplot i {kolona_zhurme} (Para Pastrimit)')\n",
    "plt.show()\n"
   ]
  },
  {
   "cell_type": "markdown",
   "metadata": {},
   "source": [
    "- Trajtimi i  zhurmës bazuar në metodën IQR\n",
    "\n"
   ]
  },
  {
   "cell_type": "code",
   "execution_count": 6,
   "metadata": {},
   "outputs": [],
   "source": [
    "# Heqja e outliers bazuar në shtrirjen e kuadrit (IQR)\n",
    "Q1 = df[kolona_zhurme].quantile(0.25)\n",
    "Q3 = df[kolona_zhurme].quantile(0.75)\n",
    "IQR = Q3 - Q1\n",
    "limiti_i_ulët = Q1 - 1.5 * IQR\n",
    "limiti_i_lartë = Q3 + 1.5 * IQR"
   ]
  },
  {
   "cell_type": "code",
   "execution_count": 7,
   "metadata": {},
   "outputs": [],
   "source": [
    "df_pastruar = df[(df[kolona_zhurme] >= limiti_i_ulët) & (df[kolona_zhurme] <= limiti_i_lartë)]"
   ]
  },
  {
   "cell_type": "markdown",
   "metadata": {},
   "source": [
    "- Vizualizimi i datasetit të pastruar"
   ]
  },
  {
   "cell_type": "code",
   "execution_count": 8,
   "metadata": {},
   "outputs": [
    {
     "data": {
      "image/png": "[encoded data removed]",
      "text/plain": [
       "<Figure size 640x480 with 1 Axes>"
      ]
     },
     "metadata": {},
     "output_type": "display_data"
    }
   ],
   "source": [
    "# Vizualizimi i datasetit te pastruar me zhurmë\n",
    "plt.boxplot(df_pastruar[kolona_zhurme])\n",
    "plt.title(f'Boxplot i {kolona_zhurme} (Pas Pastrimit)')\n",
    "plt.show()"
   ]
  },
  {
   "cell_type": "markdown",
   "metadata": {},
   "source": [
    "- Shembull i noisy data me vlera string"
   ]
  },
  {
   "cell_type": "code",
   "execution_count": 9,
   "metadata": {},
   "outputs": [],
   "source": [
    "# Funksioni për shtimin e zhurmës në kolonën \"Category\"\n",
    "def shto_zhurme_kategori(list_zhurme):\n",
    "    zhurma = np.random.choice(list_zhurme, size=len(df))\n",
    "    df['Category'] = df['Category'] + zhurma"
   ]
  },
  {
   "cell_type": "code",
   "execution_count": 10,
   "metadata": {},
   "outputs": [],
   "source": [
    "# Lista e vlerave të mundshme për zhurmë në kolonën \"Category\"\n",
    "lista_zhurme_kategori = [\"\", \"\", \"\", \"Special \", \"Limited Edition \", \"Exlusive \"]"
   ]
  },
  {
   "cell_type": "code",
   "execution_count": 11,
   "metadata": {},
   "outputs": [],
   "source": [
    "# Shtimi i zhurmës në kolonën \"Category\"\n",
    "shto_zhurme_kategori(lista_zhurme_kategori)"
   ]
  },
  {
   "cell_type": "code",
   "execution_count": 12,
   "metadata": {},
   "outputs": [
    {
     "name": "stdout",
     "output_type": "stream",
     "text": [
      "\n",
      "Dataset me Zhurmë:\n",
      "      Customer ID    Age  Gender Item Purchased                  Category  \\\n",
      "0               1   55.0    Male         Blouse  ClothingLimited Edition    \n",
      "1               2   19.0    Male        Sweater                  Clothing   \n",
      "2               3   50.0    Male          Jeans                  Clothing   \n",
      "3               4   21.0    Male        Sandals  FootwearLimited Edition    \n",
      "4               5   45.0    Male         Blouse         ClothingExlusive    \n",
      "...           ...    ...     ...            ...                       ...   \n",
      "3946         3900  420.0  Female        Handbag       AccessoriesSpecial    \n",
      "3947         3900  215.0  Female        Handbag               Accessories   \n",
      "3948         3900  205.0  Female        Handbag               Accessories   \n",
      "3949         3900  270.0  Female        Handbag               Accessories   \n",
      "3950         3900  700.0  Female        Handbag               Accessories   \n",
      "\n",
      "      Purchase Amount (USD)       Location Size      Color  Season  \\\n",
      "0                 62.934283       Kentucky    L       Gray  Winter   \n",
      "1                 61.234714          Maine    L     Maroon  Winter   \n",
      "2                 85.953771  Massachusetts    S     Maroon  Spring   \n",
      "3                120.460597   Rhode Island    M     Maroon  Spring   \n",
      "4                 44.316933         Oregon    M  Turquoise  Spring   \n",
      "...                     ...            ...  ...        ...     ...   \n",
      "3946              91.752598     California    M      Beige  Spring   \n",
      "3947              89.563725     California    M      Beige  Spring   \n",
      "3948              75.400134     California    M      Beige  Spring   \n",
      "3949              55.419385     California    M      Beige  Spring   \n",
      "3950              91.305886     California    M      Beige  Spring   \n",
      "\n",
      "      Review Rating Subscription Status  Shipping Type Discount Applied  \\\n",
      "0               3.1                 Yes        Express              Yes   \n",
      "1               3.1                 Yes        Express              Yes   \n",
      "2               3.1                 Yes  Free Shipping              Yes   \n",
      "3               3.5                 Yes   Next Day Air              Yes   \n",
      "4               2.7                 Yes  Free Shipping              Yes   \n",
      "...             ...                 ...            ...              ...   \n",
      "3946            3.1                  No   Store Pickup               No   \n",
      "3947            3.1                  No   Store Pickup               No   \n",
      "3948            3.1                  No   Store Pickup               No   \n",
      "3949            3.1                  No   Store Pickup               No   \n",
      "3950            3.1                  No   Store Pickup               No   \n",
      "\n",
      "     Promo Code Used  Previous Purchases Payment Method Frequency of Purchases  \n",
      "0                Yes                  14          Venmo            Fortnightly  \n",
      "1                Yes                   2           Cash            Fortnightly  \n",
      "2                Yes                  23    Credit Card                 Weekly  \n",
      "3                Yes                  49         PayPal                 Weekly  \n",
      "4                Yes                  31         PayPal               Annually  \n",
      "...              ...                 ...            ...                    ...  \n",
      "3946              No                  33          Venmo              Quarterly  \n",
      "3947              No                  33          Venmo              Quarterly  \n",
      "3948              No                  33          Venmo              Quarterly  \n",
      "3949              No                  33          Venmo              Quarterly  \n",
      "3950              No                  33          Venmo              Quarterly  \n",
      "\n",
      "[3951 rows x 18 columns]\n"
     ]
    }
   ],
   "source": [
    "# Shfaq datasetin me zhurmë\n",
    "print(\"\\nDataset me Zhurmë:\")\n",
    "print(df)"
   ]
  },
  {
   "cell_type": "code",
   "execution_count": 13,
   "metadata": {},
   "outputs": [
    {
     "data": {
      "text/plain": [
       "<Figure size 1000x600 with 0 Axes>"
      ]
     },
     "metadata": {},
     "output_type": "display_data"
    },
    {
     "data": {
      "image/png": "[encoded data removed]",
      "text/plain": [
       "<Figure size 640x480 with 1 Axes>"
      ]
     },
     "metadata": {},
     "output_type": "display_data"
    }
   ],
   "source": [
    "# Shfaq boxplotin me zhurmë\n",
    "plt.figure(figsize=(10, 6))\n",
    "df.boxplot(column='Purchase Amount (USD)', by='Category', showfliers=False)\n",
    "plt.title('Boxplot me Zhurmë')\n",
    "plt.suptitle('')\n",
    "plt.show()"
   ]
  },
  {
   "cell_type": "code",
   "execution_count": 14,
   "metadata": {},
   "outputs": [],
   "source": [
    "# Hiqe të dhënat me zhurmë\n",
    "df['Category'] = df['Category'].str.replace('|'.join(lista_zhurme_kategori), '', regex=True)\n",
    "df = df[df['Category'] != '']  # Hiqe rreshtat ku 'Category' është e zbrazët"
   ]
  },
  {
   "cell_type": "code",
   "execution_count": 15,
   "metadata": {},
   "outputs": [
    {
     "name": "stdout",
     "output_type": "stream",
     "text": [
      "\n",
      "Dataset pa Zhurmë:\n",
      "      Customer ID    Age  Gender Item Purchased     Category  \\\n",
      "0               1   55.0    Male         Blouse     Clothing   \n",
      "1               2   19.0    Male        Sweater     Clothing   \n",
      "2               3   50.0    Male          Jeans     Clothing   \n",
      "3               4   21.0    Male        Sandals     Footwear   \n",
      "4               5   45.0    Male         Blouse     Clothing   \n",
      "...           ...    ...     ...            ...          ...   \n",
      "3946         3900  420.0  Female        Handbag  Accessories   \n",
      "3947         3900  215.0  Female        Handbag  Accessories   \n",
      "3948         3900  205.0  Female        Handbag  Accessories   \n",
      "3949         3900  270.0  Female        Handbag  Accessories   \n",
      "3950         3900  700.0  Female        Handbag  Accessories   \n",
      "\n",
      "      Purchase Amount (USD)       Location Size      Color  Season  \\\n",
      "0                 62.934283       Kentucky    L       Gray  Winter   \n",
      "1                 61.234714          Maine    L     Maroon  Winter   \n",
      "2                 85.953771  Massachusetts    S     Maroon  Spring   \n",
      "3                120.460597   Rhode Island    M     Maroon  Spring   \n",
      "4                 44.316933         Oregon    M  Turquoise  Spring   \n",
      "...                     ...            ...  ...        ...     ...   \n",
      "3946              91.752598     California    M      Beige  Spring   \n",
      "3947              89.563725     California    M      Beige  Spring   \n",
      "3948              75.400134     California    M      Beige  Spring   \n",
      "3949              55.419385     California    M      Beige  Spring   \n",
      "3950              91.305886     California    M      Beige  Spring   \n",
      "\n",
      "      Review Rating Subscription Status  Shipping Type Discount Applied  \\\n",
      "0               3.1                 Yes        Express              Yes   \n",
      "1               3.1                 Yes        Express              Yes   \n",
      "2               3.1                 Yes  Free Shipping              Yes   \n",
      "3               3.5                 Yes   Next Day Air              Yes   \n",
      "4               2.7                 Yes  Free Shipping              Yes   \n",
      "...             ...                 ...            ...              ...   \n",
      "3946            3.1                  No   Store Pickup               No   \n",
      "3947            3.1                  No   Store Pickup               No   \n",
      "3948            3.1                  No   Store Pickup               No   \n",
      "3949            3.1                  No   Store Pickup               No   \n",
      "3950            3.1                  No   Store Pickup               No   \n",
      "\n",
      "     Promo Code Used  Previous Purchases Payment Method Frequency of Purchases  \n",
      "0                Yes                  14          Venmo            Fortnightly  \n",
      "1                Yes                   2           Cash            Fortnightly  \n",
      "2                Yes                  23    Credit Card                 Weekly  \n",
      "3                Yes                  49         PayPal                 Weekly  \n",
      "4                Yes                  31         PayPal               Annually  \n",
      "...              ...                 ...            ...                    ...  \n",
      "3946              No                  33          Venmo              Quarterly  \n",
      "3947              No                  33          Venmo              Quarterly  \n",
      "3948              No                  33          Venmo              Quarterly  \n",
      "3949              No                  33          Venmo              Quarterly  \n",
      "3950              No                  33          Venmo              Quarterly  \n",
      "\n",
      "[3951 rows x 18 columns]\n"
     ]
    }
   ],
   "source": [
    "# Shfaq datasetin pa zhurmë\n",
    "print(\"\\nDataset pa Zhurmë:\")\n",
    "print(df)"
   ]
  },
  {
   "cell_type": "code",
   "execution_count": 16,
   "metadata": {},
   "outputs": [
    {
     "data": {
      "text/plain": [
       "<Figure size 1000x600 with 0 Axes>"
      ]
     },
     "metadata": {},
     "output_type": "display_data"
    },
    {
     "data": {
      "image/png": "[encoded data removed]",
      "text/plain": [
       "<Figure size 640x480 with 1 Axes>"
      ]
     },
     "metadata": {},
     "output_type": "display_data"
    }
   ],
   "source": [
    "# Shfaq boxplotin pa zhurmë\n",
    "plt.figure(figsize=(10, 6))\n",
    "df.boxplot(column='Purchase Amount (USD)', by='Category', showfliers=False)\n",
    "plt.title('Boxplot pa Zhurmë')\n",
    "plt.suptitle('')\n",
    "plt.show()"
   ]
  }
 ],
 "metadata": {
  "kernelspec": {
   "display_name": "Python 3",
   "language": "python",
   "name": "python3"
  },
  "language_info": {
   "codemirror_mode": {
    "name": "ipython",
    "version": 3
   },
   "file_extension": ".py",
   "mimetype": "text/x-python",
   "name": "python",
   "nbconvert_exporter": "python",
   "pygments_lexer": "ipython3",
   "version": "3.12.0"
  }
 },
 "nbformat": 4,
 "nbformat_minor": 2
}
